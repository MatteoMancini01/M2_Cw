{
 "cells": [
  {
   "cell_type": "markdown",
   "metadata": {},
   "source": [
    "# Introduction \n",
    "\n",
    "This Jupyter Notebook contains all the codes and methodologies utilised to undertake and fulfil the instructions provided in part 2 of `main.pdf`, i.e. baseline.\n",
    "\n",
    "Our aim is to implement LLMTIME procedure, we took into account one of the files provided in this repository, [llmtime.pdf](https://github.com/MatteoMancini01/M2_Cw/blob/main/instructions/llmtime.pdf). We were provided with two Python files `qwen.py` and `lora_skeleton.py`.  We created two extra Python files, `plotting.py` and `preprocessor.py`.  All Python files are stored in the directory `src`, the table below illustrates the purposes of each Python file, in `src`:\n",
    "\n",
    "|File Name| Information|\n",
    "|---------|------------|\n",
    "|[`qwen.py`](https://github.com/MatteoMancini01/M2_Cw/blob/main/src/qwen.py)| Loads the Qwen2.5-0.5B-Instruct model and tokenizer from Hugging Face, freezes all model parameters except for the LM head bias, and prepares it for inference or fine-tuning.|\n",
    "|[`lora_skeleton.py`](https://github.com/MatteoMancini01/M2_Cw/blob/main/src/lora_skeleton.py)| Implements LoRA (Low-Rank Adaptation) by wrapping the query and value projection layers of the Qwen2.5 model with trainable LoRA layers, processes the Lotka-Volterra dataset using LLMTIME, tokenizes it, and fine-tunes the model for up to 10,000 optimizer steps using PyTorch and accelerate.​|\n",
    "|[`preprocessor.py`](https://github.com/MatteoMancini01/M2_Cw/blob/main/src/preprocessor.py)| Contains the class `Preprocessor`, which gives access to all the functions required for preprocessing the dataset from `lotka_volterra_data.h5`, this includes functions that scale data, converts array to string and sting back to array, all very useful pre-requisites for preprocessing the dataset.|\n",
    "|[`plotting.py`](https://github.com/MatteoMancini01/M2_Cw/blob/main/src/plotting.py)|This file is not one of the requisites for this project. Designed for plotting. File contains a class PlotProject, which contains all the plotting functions required for the Jupyter Notebooks, this aims to keep the Notebooks tidy.|\n",
    "\n",
    "For more details about each Python files, I encourage the reader to inspect them, each function within all files, have detailed doc-stings including examples on how to use them.\n"
   ]
  },
  {
   "cell_type": "markdown",
   "metadata": {},
   "source": [
    "Through out this Notebook to run codes certain packages and designed functions are required, please make sure you run the following cell!"
   ]
  },
  {
   "cell_type": "code",
   "execution_count": 1,
   "metadata": {},
   "outputs": [
    {
     "name": "stderr",
     "output_type": "stream",
     "text": [
      "/root/Document/Term2/M2/M2_Cw/m2_venv/lib/python3.12/site-packages/tqdm/auto.py:21: TqdmWarning: IProgress not found. Please update jupyter and ipywidgets. See https://ipywidgets.readthedocs.io/en/stable/user_install.html\n",
      "  from .autonotebook import tqdm as notebook_tqdm\n",
      "2025-03-19 19:09:13.178799: E external/local_xla/xla/stream_executor/cuda/cuda_fft.cc:477] Unable to register cuFFT factory: Attempting to register factory for plugin cuFFT when one has already been registered\n",
      "WARNING: All log messages before absl::InitializeLog() is called are written to STDERR\n",
      "E0000 00:00:1742411353.266069   52048 cuda_dnn.cc:8310] Unable to register cuDNN factory: Attempting to register factory for plugin cuDNN when one has already been registered\n",
      "E0000 00:00:1742411353.291922   52048 cuda_blas.cc:1418] Unable to register cuBLAS factory: Attempting to register factory for plugin cuBLAS when one has already been registered\n",
      "2025-03-19 19:09:13.504334: I tensorflow/core/platform/cpu_feature_guard.cc:210] This TensorFlow binary is optimized to use available CPU instructions in performance-critical operations.\n",
      "To enable the following instructions: AVX2 FMA, in other operations, rebuild TensorFlow with the appropriate compiler flags.\n",
      "Sliding Window Attention is enabled but not implemented for `sdpa`; unexpected results may be encountered.\n"
     ]
    }
   ],
   "source": [
    "# Import required packages\n",
    "import torch\n",
    "import math\n",
    "import numpy as np\n",
    "import matplotlib.pyplot as plt\n",
    "import h5py\n",
    "import pandas as pd\n",
    "from src.preprocessor import Preprocessor\n",
    "from src.qwen import load_qwen, tokenize_time_series \n",
    "from src.plotting import PlotProject\n",
    "from sklearn.metrics import mean_absolute_error\n",
    "\n",
    "\n",
    "scaling_operator = Preprocessor.scaling_operator # Set scaling_operator to function \n",
    "model, tokenizer = load_qwen() # Set model = model and tokeinzer = tokenizer\n",
    "array_to_string = Preprocessor.array_to_string # Importing array_to_string(data) to convert timeseries to string\n",
    "string_to_array = Preprocessor.string_to_array # Importing string_to_array(formatted_string) to convert strings back to arrays\n",
    "\n",
    "plot_hist_MSE = PlotProject.plot_hist_MSE # Set function designed to plot MSE histograms\n",
    "plot_hist_RMSE = PlotProject.plot_hist_RMSE # Set function designed to plot RMSE histograms\n",
    "plot_pred_vs_true = PlotProject.plot_pred_vs_true # Set function to plot predicted vs true system\n",
    "plot_error_hist_system = PlotProject.plot_error_hist_system # Plot distribution of error in each system\n"
   ]
  },
  {
   "cell_type": "markdown",
   "metadata": {},
   "source": [
    "This procedure takes a while to run with `model.generate()`, thus, we collected all of Qwen2.5 outcomes and the relevant metrics into the directory `saved_predictions_2b`. The reader is welcome to run the cell below for loading all the relevant metrics."
   ]
  },
  {
   "cell_type": "code",
   "execution_count": 3,
   "metadata": {},
   "outputs": [],
   "source": [
    "# Load decoded predictions generated from Qwen2.5, npz file\n",
    "loaded = np.load(\"saved_predictions_2b/my_decoded_predictions.npz\")\n",
    "my_decoded_predictions = [loaded[key] for key in loaded]\n",
    "\n",
    "# Load MSE and RMSE for each system, these are csv files\n",
    "mse_true_predicted_loaded = pd.read_csv(\"saved_predictions_2b/mse_true_predicted.csv\")\n",
    "rmse_true_predicted_loaded = pd.read_csv(\"saved_predictions_2b/rmse_true_predicted.csv\")\n",
    "\n",
    "# Load error computed between true and predicted pairs prey and predator, npz file\n",
    "loaded_error = np.load(\"saved_predictions_2b/error_per_system.npz\")\n",
    "error_per_system_loaded = [loaded_error[key] for key in loaded_error]"
   ]
  },
  {
   "cell_type": "markdown",
   "metadata": {},
   "source": [
    "Open `lotka_volterra_data.h5` file on notebook"
   ]
  },
  {
   "cell_type": "code",
   "execution_count": 4,
   "metadata": {},
   "outputs": [],
   "source": [
    "with h5py.File('lotka_volterra_data.h5', 'r') as f:\n",
    "    # Access the full dataset\n",
    "    trajectories = f['trajectories'][:]\n",
    "    time_points = f['time'][:]"
   ]
  },
  {
   "cell_type": "markdown",
   "metadata": {},
   "source": [
    "Checikng shape of the dataset, we expect trajectories to be of size $(1000 \\times 100 \\times 2)$, and time_points of size $(100 \\times 1)$"
   ]
  },
  {
   "cell_type": "code",
   "execution_count": 5,
   "metadata": {},
   "outputs": [
    {
     "name": "stdout",
     "output_type": "stream",
     "text": [
      "Time points shape: (100,)\n",
      "\n",
      "Trajectory shape (pray/predator): (1000, 100, 2)\n"
     ]
    }
   ],
   "source": [
    "print('Time points shape:',time_points.shape)\n",
    "print('')\n",
    "print('Trajectory shape (pray/predator):',trajectories.shape)"
   ]
  },
  {
   "cell_type": "markdown",
   "metadata": {},
   "source": [
    "The table below illustrate `lotka_volterra_data.h5`(using `pandas.DataFrame`to cunstruct the table)."
   ]
  },
  {
   "cell_type": "code",
   "execution_count": 7,
   "metadata": {},
   "outputs": [
    {
     "data": {
      "text/html": [
       "<div>\n",
       "<style scoped>\n",
       "    .dataframe tbody tr th:only-of-type {\n",
       "        vertical-align: middle;\n",
       "    }\n",
       "\n",
       "    .dataframe tbody tr th {\n",
       "        vertical-align: top;\n",
       "    }\n",
       "\n",
       "    .dataframe thead th {\n",
       "        text-align: right;\n",
       "    }\n",
       "</style>\n",
       "<table border=\"1\" class=\"dataframe\">\n",
       "  <thead>\n",
       "    <tr style=\"text-align: right;\">\n",
       "      <th></th>\n",
       "      <th>system_id</th>\n",
       "      <th>time_step</th>\n",
       "      <th>prey</th>\n",
       "      <th>predator</th>\n",
       "    </tr>\n",
       "  </thead>\n",
       "  <tbody>\n",
       "    <tr>\n",
       "      <th>0</th>\n",
       "      <td>0</td>\n",
       "      <td>0.000000</td>\n",
       "      <td>0.949917</td>\n",
       "      <td>1.040624</td>\n",
       "    </tr>\n",
       "    <tr>\n",
       "      <th>1</th>\n",
       "      <td>0</td>\n",
       "      <td>2.020202</td>\n",
       "      <td>0.740551</td>\n",
       "      <td>0.779542</td>\n",
       "    </tr>\n",
       "    <tr>\n",
       "      <th>2</th>\n",
       "      <td>0</td>\n",
       "      <td>4.040404</td>\n",
       "      <td>0.682246</td>\n",
       "      <td>0.564390</td>\n",
       "    </tr>\n",
       "    <tr>\n",
       "      <th>3</th>\n",
       "      <td>0</td>\n",
       "      <td>6.060606</td>\n",
       "      <td>0.716674</td>\n",
       "      <td>0.407644</td>\n",
       "    </tr>\n",
       "    <tr>\n",
       "      <th>4</th>\n",
       "      <td>0</td>\n",
       "      <td>8.080808</td>\n",
       "      <td>0.824511</td>\n",
       "      <td>0.300283</td>\n",
       "    </tr>\n",
       "    <tr>\n",
       "      <th>...</th>\n",
       "      <td>...</td>\n",
       "      <td>...</td>\n",
       "      <td>...</td>\n",
       "      <td>...</td>\n",
       "    </tr>\n",
       "    <tr>\n",
       "      <th>99995</th>\n",
       "      <td>999</td>\n",
       "      <td>191.919192</td>\n",
       "      <td>0.901549</td>\n",
       "      <td>0.579420</td>\n",
       "    </tr>\n",
       "    <tr>\n",
       "      <th>99996</th>\n",
       "      <td>999</td>\n",
       "      <td>193.939394</td>\n",
       "      <td>0.957527</td>\n",
       "      <td>0.539055</td>\n",
       "    </tr>\n",
       "    <tr>\n",
       "      <th>99997</th>\n",
       "      <td>999</td>\n",
       "      <td>195.959596</td>\n",
       "      <td>1.036460</td>\n",
       "      <td>0.515615</td>\n",
       "    </tr>\n",
       "    <tr>\n",
       "      <th>99998</th>\n",
       "      <td>999</td>\n",
       "      <td>197.979798</td>\n",
       "      <td>1.129212</td>\n",
       "      <td>0.510619</td>\n",
       "    </tr>\n",
       "    <tr>\n",
       "      <th>99999</th>\n",
       "      <td>999</td>\n",
       "      <td>200.000000</td>\n",
       "      <td>1.223701</td>\n",
       "      <td>0.524988</td>\n",
       "    </tr>\n",
       "  </tbody>\n",
       "</table>\n",
       "<p>100000 rows × 4 columns</p>\n",
       "</div>"
      ],
      "text/plain": [
       "       system_id   time_step      prey  predator\n",
       "0              0    0.000000  0.949917  1.040624\n",
       "1              0    2.020202  0.740551  0.779542\n",
       "2              0    4.040404  0.682246  0.564390\n",
       "3              0    6.060606  0.716674  0.407644\n",
       "4              0    8.080808  0.824511  0.300283\n",
       "...          ...         ...       ...       ...\n",
       "99995        999  191.919192  0.901549  0.579420\n",
       "99996        999  193.939394  0.957527  0.539055\n",
       "99997        999  195.959596  1.036460  0.515615\n",
       "99998        999  197.979798  1.129212  0.510619\n",
       "99999        999  200.000000  1.223701  0.524988\n",
       "\n",
       "[100000 rows x 4 columns]"
      ]
     },
     "execution_count": 7,
     "metadata": {},
     "output_type": "execute_result"
    }
   ],
   "source": [
    "num_systems, num_time_steps, num_variables = trajectories.shape\n",
    "\n",
    "def repeat_sequence(seq, n):\n",
    "    '''  \n",
    "    Repeats the given sequence `n` times and returns the concatenated list.\n",
    "\n",
    "    Parameters:\n",
    "    seq (list): The sequence to be repeated.\n",
    "    n (int): The number of times to repeat the sequence.\n",
    "\n",
    "    Returns:\n",
    "    list: A new list containing the repeated sequence.\n",
    "    '''\n",
    "    repeated_list = seq*n \n",
    "    return repeated_list\n",
    "\n",
    "# Create a DataFrame\n",
    "df_traj = pd.DataFrame({\n",
    "    \"system_id\": np.repeat(np.arange(num_systems), num_time_steps),  # Repeats 0-999, each 100 times\n",
    "    \"time_step\": repeat_sequence(time_points.tolist(), num_systems), # Cycles 0-99 for each system\n",
    "    \"prey\": trajectories[:, :, 0].flatten(),  # Flatten prey values\n",
    "    \"predator\": trajectories[:, :, 1].flatten()  # Flatten predator values\n",
    "})\n",
    "df_traj # Visualising data in dataframe format"
   ]
  },
  {
   "cell_type": "markdown",
   "metadata": {},
   "source": [
    "# Part 2 (a)"
   ]
  },
  {
   "cell_type": "markdown",
   "metadata": {},
   "source": [
    "Grouping prey and predator into arrays to determine the maximum value for scaling procedure."
   ]
  },
  {
   "cell_type": "code",
   "execution_count": 8,
   "metadata": {},
   "outputs": [],
   "source": [
    "prey_array = trajectories[:,:,0].flatten()\n",
    "predator_array = trajectories[:,:,1].flatten()"
   ]
  },
  {
   "cell_type": "markdown",
   "metadata": {},
   "source": [
    "## Scaling Dataset `lotka_volterra_data.h5`\n",
    "\n",
    "As we will see in the `Table` presented below, in the original dataset we have laues that vary significantly. To standardize the numeric range, we are going to use [quantiles]( https://en.wikipedia.org/wiki/Quantile). A quantile is a value that divides a dataset into equal-sized intervals, indicating the data points below which a given percentage if observations fall. From the project instructions it is adviced to apply a simple scaling:\n",
    "$$\n",
    "x_t' = \\frac{x_t}{\\alpha}\n",
    "$$\n",
    "where $\\alpha$ should be chosen based on the distribution of the dataset `lotka_volterra_data.h5`.\n",
    "\n",
    "In our particular case we want most of our dataset to be in range $[0,10]$. This is coded in the [`preprocessor.py`](https://github.com/MatteoMancini01/M2_Cw/blob/main/src/preprocessor.py) file, which appropriate docstrings."
   ]
  },
  {
   "cell_type": "markdown",
   "metadata": {},
   "source": [
    "#### `numpy.quantile()`\n",
    "\n",
    "For scaling our dataset we want to use [`numpy.quantile()`](https://numpy.org/doc/2.1/reference/generated/numpy.quantile.html). The `numpy.quantile()` function calculates the quantiles of a given NumPy array. Quantiles are cut points that devide the data into intercals with equal probability. Thus `numpy.quantile()`can be used to scale our dataset dynamically, without having to worry about choosing the appropriate value for $\\alpha$.\n",
    "\n",
    "All of this is implemented in the function `scaling_operator`, which also <b>rounds</b> each datapoint using `numpy.round()`, this is set to 3 decimal places."
   ]
  },
  {
   "cell_type": "markdown",
   "metadata": {},
   "source": [
    "Scaling data"
   ]
  },
  {
   "cell_type": "code",
   "execution_count": 9,
   "metadata": {},
   "outputs": [
    {
     "name": "stdout",
     "output_type": "stream",
     "text": [
      "Scaling factor: 0.25283724\n"
     ]
    }
   ],
   "source": [
    "trajectories_scaled, scaling_factor = scaling_operator(trajectories, 0.9, 10) # Using function from preprocessor\n",
    "print('Scaling factor:', scaling_factor)\n",
    "\n",
    "# Collecting prey and predator in separate arrays\n",
    "prey_array_scaled = trajectories_scaled[:,:,0].flatten()\n",
    "predator_array_scaled = trajectories_scaled[:,:,1].flatten()"
   ]
  },
  {
   "cell_type": "markdown",
   "metadata": {},
   "source": [
    "Collecting scaled data into `pandas.DataFrame` format, in particular, we want to construct a $100000\\times 4$ table, (number of rows $= 1000 \\times 100$). With four colums, of which three are `time_step`, `prey` and `predator`, but with an additional one `system_id` (this separates the $1000$ different systems), which will be later used to convert our timeseries data into string format."
   ]
  },
  {
   "cell_type": "code",
   "execution_count": 10,
   "metadata": {},
   "outputs": [
    {
     "data": {
      "text/html": [
       "<div>\n",
       "<style scoped>\n",
       "    .dataframe tbody tr th:only-of-type {\n",
       "        vertical-align: middle;\n",
       "    }\n",
       "\n",
       "    .dataframe tbody tr th {\n",
       "        vertical-align: top;\n",
       "    }\n",
       "\n",
       "    .dataframe thead th {\n",
       "        text-align: right;\n",
       "    }\n",
       "</style>\n",
       "<table border=\"1\" class=\"dataframe\">\n",
       "  <thead>\n",
       "    <tr style=\"text-align: right;\">\n",
       "      <th></th>\n",
       "      <th>system_id</th>\n",
       "      <th>time_step</th>\n",
       "      <th>prey</th>\n",
       "      <th>predator</th>\n",
       "    </tr>\n",
       "  </thead>\n",
       "  <tbody>\n",
       "    <tr>\n",
       "      <th>0</th>\n",
       "      <td>0</td>\n",
       "      <td>0.000000</td>\n",
       "      <td>3.757</td>\n",
       "      <td>4.116</td>\n",
       "    </tr>\n",
       "    <tr>\n",
       "      <th>1</th>\n",
       "      <td>0</td>\n",
       "      <td>2.020202</td>\n",
       "      <td>2.929</td>\n",
       "      <td>3.083</td>\n",
       "    </tr>\n",
       "    <tr>\n",
       "      <th>2</th>\n",
       "      <td>0</td>\n",
       "      <td>4.040404</td>\n",
       "      <td>2.698</td>\n",
       "      <td>2.232</td>\n",
       "    </tr>\n",
       "    <tr>\n",
       "      <th>3</th>\n",
       "      <td>0</td>\n",
       "      <td>6.060606</td>\n",
       "      <td>2.835</td>\n",
       "      <td>1.612</td>\n",
       "    </tr>\n",
       "    <tr>\n",
       "      <th>4</th>\n",
       "      <td>0</td>\n",
       "      <td>8.080808</td>\n",
       "      <td>3.261</td>\n",
       "      <td>1.188</td>\n",
       "    </tr>\n",
       "    <tr>\n",
       "      <th>...</th>\n",
       "      <td>...</td>\n",
       "      <td>...</td>\n",
       "      <td>...</td>\n",
       "      <td>...</td>\n",
       "    </tr>\n",
       "    <tr>\n",
       "      <th>99995</th>\n",
       "      <td>999</td>\n",
       "      <td>191.919192</td>\n",
       "      <td>3.566</td>\n",
       "      <td>2.292</td>\n",
       "    </tr>\n",
       "    <tr>\n",
       "      <th>99996</th>\n",
       "      <td>999</td>\n",
       "      <td>193.939394</td>\n",
       "      <td>3.787</td>\n",
       "      <td>2.132</td>\n",
       "    </tr>\n",
       "    <tr>\n",
       "      <th>99997</th>\n",
       "      <td>999</td>\n",
       "      <td>195.959596</td>\n",
       "      <td>4.099</td>\n",
       "      <td>2.039</td>\n",
       "    </tr>\n",
       "    <tr>\n",
       "      <th>99998</th>\n",
       "      <td>999</td>\n",
       "      <td>197.979798</td>\n",
       "      <td>4.466</td>\n",
       "      <td>2.020</td>\n",
       "    </tr>\n",
       "    <tr>\n",
       "      <th>99999</th>\n",
       "      <td>999</td>\n",
       "      <td>200.000000</td>\n",
       "      <td>4.840</td>\n",
       "      <td>2.076</td>\n",
       "    </tr>\n",
       "  </tbody>\n",
       "</table>\n",
       "<p>100000 rows × 4 columns</p>\n",
       "</div>"
      ],
      "text/plain": [
       "       system_id   time_step   prey  predator\n",
       "0              0    0.000000  3.757     4.116\n",
       "1              0    2.020202  2.929     3.083\n",
       "2              0    4.040404  2.698     2.232\n",
       "3              0    6.060606  2.835     1.612\n",
       "4              0    8.080808  3.261     1.188\n",
       "...          ...         ...    ...       ...\n",
       "99995        999  191.919192  3.566     2.292\n",
       "99996        999  193.939394  3.787     2.132\n",
       "99997        999  195.959596  4.099     2.039\n",
       "99998        999  197.979798  4.466     2.020\n",
       "99999        999  200.000000  4.840     2.076\n",
       "\n",
       "[100000 rows x 4 columns]"
      ]
     },
     "execution_count": 10,
     "metadata": {},
     "output_type": "execute_result"
    }
   ],
   "source": [
    "num_systems_scaled, num_time_steps_scaled, num_variables_scaled = trajectories_scaled.shape\n",
    "\n",
    "# Create a DataFrame\n",
    "df_traj_scaled = pd.DataFrame({\n",
    "    \"system_id\": np.repeat(np.arange(num_systems_scaled), num_time_steps_scaled),  # Repeats 0-999, each 100 times\n",
    "    \"time_step\": repeat_sequence(time_points.tolist(), num_systems_scaled), # Cycles 0-99 for each system\n",
    "    \"prey\": trajectories_scaled[:, :, 0].flatten(),  # Flatten prey values\n",
    "    \"predator\": trajectories_scaled[:, :, 1].flatten()  # Flatten predator values\n",
    "})\n",
    "# Visualising table\n",
    "df_traj_scaled"
   ]
  },
  {
   "cell_type": "markdown",
   "metadata": {},
   "source": [
    "Defining a function that calculates the percentage of values in an array that fall outside a given range. (This seem tedious, as we set a value for quantile in the function `scaling_operator`, e.g. $q = 0.9$, means that only $10%$ of the values will be out of our custom range. But this will be used to measure what percentage of datapoints in the original dataset is outside a specific range.)"
   ]
  },
  {
   "cell_type": "code",
   "execution_count": 11,
   "metadata": {},
   "outputs": [],
   "source": [
    "def scaling_measure(arr, min_val, max_val):\n",
    "    \n",
    "    \"\"\"\n",
    "    Calculates the percentage of values in an array that fall outside a given range.\n",
    "\n",
    "    Parameters:\n",
    "    -----------\n",
    "    arr : array-like\n",
    "        The input numerical data.\n",
    "    min_val : float\n",
    "        The minimum acceptable value.\n",
    "    max_val : float\n",
    "        The maximum acceptable value.\n",
    "\n",
    "    Returns:\n",
    "    --------\n",
    "    str\n",
    "        The percentage of values outside the range, formatted as a string.\n",
    "    \"\"\"\n",
    "\n",
    "    # Count values about the max range\n",
    "    outside_count = np.sum((arr < min_val)|(arr > max_val))\n",
    "\n",
    "    # Calculating the pergentage of values outside max range\n",
    "    percentage_outside = (outside_count/arr.size)*100\n",
    "\n",
    "    return f'{percentage_outside:.2f}%'"
   ]
  },
  {
   "cell_type": "markdown",
   "metadata": {},
   "source": [
    "Collecting scaling information into a Table using `pandas.DataFrame`."
   ]
  },
  {
   "cell_type": "code",
   "execution_count": 12,
   "metadata": {},
   "outputs": [],
   "source": [
    "min_val = 0\n",
    "max_val = 1\n",
    "Table_1 = pd.DataFrame({\n",
    "\n",
    "    'Pray': [max(prey_array), np.mean(prey_array), min(prey_array), scaling_measure(prey_array, min_val, max_val)],\n",
    "    'Pray after scaling': [max(prey_array_scaled), np.mean(prey_array_scaled), min(prey_array_scaled), scaling_measure(prey_array_scaled, min_val, max_val)],\n",
    "    'Predator': [max(predator_array), np.mean(predator_array), min(predator_array), scaling_measure(predator_array, min_val, max_val)],\n",
    "    'Predator after scaling': [max(predator_array_scaled), np.mean(predator_array_scaled), min(predator_array_scaled), scaling_measure(predator_array_scaled, min_val, max_val)],\n",
    "    \n",
    "})\n",
    "Table_1.index = [\"Maximim Value\", \"Mean Value\", \"Minimum Value\", f\"Values outside the range {min_val}-{max_val}\"] # Adding index for each row"
   ]
  },
  {
   "cell_type": "markdown",
   "metadata": {},
   "source": [
    " From the table below, we can observe, scaling was successful. The reason why we want to test how many data points are outside the range $[0,1]$, is due to the fact that a lot of data points in the original dataset (pre-scaling) are very small, many of order $10^{-3}$ (and smaller order $10^{-4}$), which may affect the tokenisation process."
   ]
  },
  {
   "cell_type": "code",
   "execution_count": 13,
   "metadata": {},
   "outputs": [
    {
     "data": {
      "text/html": [
       "<div>\n",
       "<style scoped>\n",
       "    .dataframe tbody tr th:only-of-type {\n",
       "        vertical-align: middle;\n",
       "    }\n",
       "\n",
       "    .dataframe tbody tr th {\n",
       "        vertical-align: top;\n",
       "    }\n",
       "\n",
       "    .dataframe thead th {\n",
       "        text-align: right;\n",
       "    }\n",
       "</style>\n",
       "<table border=\"1\" class=\"dataframe\">\n",
       "  <thead>\n",
       "    <tr style=\"text-align: right;\">\n",
       "      <th></th>\n",
       "      <th>Pray</th>\n",
       "      <th>Pray after scaling</th>\n",
       "      <th>Predator</th>\n",
       "      <th>Predator after scaling</th>\n",
       "    </tr>\n",
       "  </thead>\n",
       "  <tbody>\n",
       "    <tr>\n",
       "      <th>Maximim Value</th>\n",
       "      <td>13.740113</td>\n",
       "      <td>54.344002</td>\n",
       "      <td>4.76849</td>\n",
       "      <td>18.860001</td>\n",
       "    </tr>\n",
       "    <tr>\n",
       "      <th>Mean Value</th>\n",
       "      <td>1.698114</td>\n",
       "      <td>6.71623</td>\n",
       "      <td>0.569606</td>\n",
       "      <td>2.252858</td>\n",
       "    </tr>\n",
       "    <tr>\n",
       "      <th>Minimum Value</th>\n",
       "      <td>0.002077</td>\n",
       "      <td>0.008</td>\n",
       "      <td>0.000037</td>\n",
       "      <td>0.0</td>\n",
       "    </tr>\n",
       "    <tr>\n",
       "      <th>Values outside the range 0-1</th>\n",
       "      <td>63.11%</td>\n",
       "      <td>93.82%</td>\n",
       "      <td>12.21%</td>\n",
       "      <td>77.31%</td>\n",
       "    </tr>\n",
       "  </tbody>\n",
       "</table>\n",
       "</div>"
      ],
      "text/plain": [
       "                                   Pray Pray after scaling  Predator  \\\n",
       "Maximim Value                 13.740113          54.344002   4.76849   \n",
       "Mean Value                     1.698114            6.71623  0.569606   \n",
       "Minimum Value                  0.002077              0.008  0.000037   \n",
       "Values outside the range 0-1     63.11%             93.82%    12.21%   \n",
       "\n",
       "                             Predator after scaling  \n",
       "Maximim Value                             18.860001  \n",
       "Mean Value                                 2.252858  \n",
       "Minimum Value                                   0.0  \n",
       "Values outside the range 0-1                 77.31%  "
      ]
     },
     "execution_count": 13,
     "metadata": {},
     "output_type": "execute_result"
    }
   ],
   "source": [
    "Table_1 # Visualising table"
   ]
  },
  {
   "cell_type": "markdown",
   "metadata": {},
   "source": [
    "Looking at the last row, we can see that we have a major improvement for both `prey` and `predator` categories, the percentage of values outside the range $[0,1]$ has increased in `prey` by ~ $30\\%$ and `predator` by ~ $65\\%$. Thus, scaling was successful. Now we can proceed with the next step, i.e. converting the scaled dataset to strings, for compatibility with [Qwen2.5]( https://github.com/QwenLM/Qwen2.5)."
   ]
  },
  {
   "cell_type": "markdown",
   "metadata": {},
   "source": [
    "## Qwen2.5 (Demo)"
   ]
  },
  {
   "cell_type": "markdown",
   "metadata": {},
   "source": [
    "Trying with examples provided at the end of project instructions, see [LLMTIME Preprocessing Scheme](https://github.com/MatteoMancini01/M2_Cw/blob/main/instructions/main.pdf)."
   ]
  },
  {
   "cell_type": "code",
   "execution_count": 14,
   "metadata": {},
   "outputs": [
    {
     "name": "stdout",
     "output_type": "stream",
     "text": [
      "[16, 13, 17, 18]\n",
      "\n",
      "[16, 659, 220, 17, 220, 18]\n"
     ]
    }
   ],
   "source": [
    "print(tokenizer(\"1.23\", return_tensors=\"pt\")[\"input_ids\"].tolist()[0]) # Tokenising string 1.23\n",
    "print('')\n",
    "print(tokenizer(\"1 . 2 3\", return_tensors=\"pt\")[\"input_ids\"].tolist()[0]) # Tokenising string 1 . 2 3"
   ]
  },
  {
   "cell_type": "markdown",
   "metadata": {},
   "source": [
    "Note: from the above output one can observe, space between each numbers and dot changes the size of tokenisation output, together with the size of each token. "
   ]
  },
  {
   "cell_type": "markdown",
   "metadata": {},
   "source": [
    "Example of how `load_qwen()` works!"
   ]
  },
  {
   "cell_type": "code",
   "execution_count": 15,
   "metadata": {},
   "outputs": [
    {
     "name": "stderr",
     "output_type": "stream",
     "text": [
      "The attention mask is not set and cannot be inferred from input because pad token is same as eos token. As a consequence, you may observe unexpected behavior. Please pass your input's `attention_mask` to obtain reliable results.\n"
     ]
    }
   ],
   "source": [
    "text = 'Hello, world' # Define input text\n",
    "input_ids = tokenizer(text, return_tensors='pt').input_ids # Tokenize text \n",
    "output = model.generate(input_ids, max_length = 50) # Generate output"
   ]
  },
  {
   "cell_type": "markdown",
   "metadata": {},
   "source": [
    "From the above code line 3 `output`, the variable `max_length` determines how many more words will the model predict when inputing text, e.g. `text = Hello, world`, as we can see from the below output."
   ]
  },
  {
   "cell_type": "code",
   "execution_count": 16,
   "metadata": {},
   "outputs": [
    {
     "data": {
      "text/plain": [
       "tensor([[ 9707,    11,  1879,     0,  2585,   646,   358,  1492,   498,  3351,\n",
       "            30,  5209,  3410,   752,   448,   279,  5871,  1995,   311,  7789,\n",
       "           498,    13,  3555,  1035,   498,  1075,   311,  1414,   476,   653,\n",
       "          1939,  2121,   458, 15235,  4128,  1614,    11,   358,  1513,   944,\n",
       "           614,   264,  6961,  9362,   323,  4157, 16282,  5961,   448,  3847]])"
      ]
     },
     "execution_count": 16,
     "metadata": {},
     "output_type": "execute_result"
    }
   ],
   "source": [
    "output # Visualising output"
   ]
  },
  {
   "cell_type": "markdown",
   "metadata": {},
   "source": [
    "From the above tensor we recognise that the first 3 tokens are related to our text, the rest of the tokens is predicted text determined from the model, as we will see below when decoding `output`."
   ]
  },
  {
   "cell_type": "markdown",
   "metadata": {},
   "source": [
    "<b>Decoding `output`</b>"
   ]
  },
  {
   "cell_type": "code",
   "execution_count": 17,
   "metadata": {},
   "outputs": [
    {
     "name": "stdout",
     "output_type": "stream",
     "text": [
      "Hello, world! How can I help you today? Please provide me with the necessary information to assist you. What would you like to know or do?\n",
      "\n",
      "As an AI language model, I don't have a physical presence and cannot interact directly with users\n"
     ]
    }
   ],
   "source": [
    "print(tokenizer.decode(output[0], skip_special_tokens=True)) # Decoding output"
   ]
  },
  {
   "cell_type": "markdown",
   "metadata": {},
   "source": [
    "## Converting Scaled Dataset into Strings\n",
    "\n",
    "We now have seen how tokenisation for text works! There is a small issue, Qwen2.5 is only designed to convert text, i.e. strings in Python, to tokens, while our dataset is a timeseries composed of 2 variables prey and predator over a time series of size 100, this is repated for a 1000 samples. Thus, before we proceed with tokenisation, we require to convert the time series data into sets of strings. To do so we are going to define a fucntion `array_to_string(data)`, and a function to convert string to array `sring_to_array(formatted_string)` (both functions are in [preprocessor.py](https://github.com/MatteoMancini01/M2_Cw/blob/main/src/preprocessor.py))."
   ]
  },
  {
   "cell_type": "markdown",
   "metadata": {},
   "source": [
    "⚠ Note: The function `array_to_string` is specifically designed for the dataset `lotka_volterra_data.h5`, in particular after converting `trajectories` into a `panda.DataFrame` format, with columns `system_id` (labeling each system from 0 to 999), columns `prey` and `predator`, each  displaying 100 data points for every `system_id`."
   ]
  },
  {
   "cell_type": "code",
   "execution_count": 18,
   "metadata": {},
   "outputs": [],
   "source": [
    "traject_scaled_string = array_to_string(df_traj_scaled) # Converting df_traj_scaled into string format"
   ]
  },
  {
   "cell_type": "markdown",
   "metadata": {},
   "source": [
    "Checking result post-conversion"
   ]
  },
  {
   "cell_type": "code",
   "execution_count": 19,
   "metadata": {},
   "outputs": [
    {
     "name": "stdout",
     "output_type": "stream",
     "text": [
      "Trajectory string format with system ID = 0: 3.757,4.116;2.929,3.083;2.698,2.232;2.835,1.612;3.261,1.188;3.973,0.909;4.995,0.736;6.35,0.642;8.033,0.611;9.978,0.64;12.027,0.741;13.915,0.938;15.283,1.271;15.732,1.785;14.933,2.492;12.876,3.282;10.089,3.882;7.451,4.015;5.574,3.666;4.52,3.066;4.08,2.448;4.068,1.929;4.385,1.536;4.991,1.259;5.869,1.081;7.002,0.986;8.344,0.963;9.801,1.013;11.212,1.145;12.356,1.373;12.979,1.715;12.864,2.165;11.941,2.672;10.379,3.118;8.59,3.351;7.014,3.296;5.897,3.004;5.265,2.6;5.044,2.193;5.154,1.845;5.539,1.577;6.165,1.389;6.997,1.277;7.985,1.235;9.047,1.263;10.065,1.363;10.892,1.539;11.366,1.792;11.36,2.108;10.829,2.451;9.87,2.75;8.698,2.927;7.569,2.934;6.673,2.781;6.095,2.527;5.834,2.238;5.856,1.969;6.119,1.748;6.586,1.585;7.217,1.485;7.96,1.445;8.747,1.465;9.484,1.546;10.065,1.686;10.389,1.879;10.378,2.11;10.015,2.349;9.366,2.551;8.563,2.672;7.76,2.684;7.09,2.589;6.629,2.419;6.4,2.215;6.395,2.013;6.589,1.84;6.95,1.709;7.44,1.626;8.01,1.593;8.602,1.611;9.141,1.678;9.552,1.791;9.765,1.942;9.735,2.115;9.462,2.286;8.994,2.426;8.418,2.507;7.838,2.513;7.343,2.447;6.995,2.326;6.817,2.178;6.812,2.029;6.963,1.897;7.244,1.795;7.624,1.731;8.061,1.707;8.504,1.724;8.898,1.78;9.187,1.871;9.324,1.988;9.283,2.117\n"
     ]
    }
   ],
   "source": [
    "ID = 0 # Change value (0-999) to visualise a different string\n",
    "print(f'Trajectory string format with system ID = {ID}:', traject_scaled_string[ID])"
   ]
  },
  {
   "cell_type": "markdown",
   "metadata": {},
   "source": [
    "We also want to test the function `string_to_array`, this is done below for the first `system_id` string data format, i.e. `system_id` $ = 0$."
   ]
  },
  {
   "cell_type": "code",
   "execution_count": 20,
   "metadata": {},
   "outputs": [
    {
     "name": "stdout",
     "output_type": "stream",
     "text": [
      "Testing string_to_array: [3.757 4.116]\n"
     ]
    }
   ],
   "source": [
    "print('Testing string_to_array:',string_to_array(traject_scaled_string[ID])[0])"
   ]
  },
  {
   "cell_type": "markdown",
   "metadata": {},
   "source": [
    "As we can observe from the above output, we successfully converted string back to array.\n",
    "Note, we only output the first element of the list, to avoid over-writing the notebook with useless outcomes!"
   ]
  },
  {
   "cell_type": "markdown",
   "metadata": {},
   "source": [
    "## Tokenisation \n",
    "\n",
    "We provided few basic examples on how to use `load_qwen()` in section 2.11, with some text and numbers (string form). We now want to proceed and tokenise our data, to achieve this, we designed a function for our particular needs that uses `model, tokenizer = load_qwen()`.\n"
   ]
  },
  {
   "cell_type": "code",
   "execution_count": 21,
   "metadata": {},
   "outputs": [
    {
     "name": "stdout",
     "output_type": "stream",
     "text": [
      "Trajectory string format with system ID = 0: {'input_ids': tensor([[18, 13, 22,  ..., 16, 16, 22]]), 'attention_mask': tensor([[1, 1, 1,  ..., 1, 1, 1]])}\n"
     ]
    }
   ],
   "source": [
    "tokenised_data = tokenize_time_series(traject_scaled_string) # Tokenising data\n",
    "ID = 0 # Change value (0-999) to visualise a different string\n",
    "print(f'Trajectory string format with system ID = {ID}:', tokenised_data[ID])"
   ]
  },
  {
   "cell_type": "markdown",
   "metadata": {},
   "source": [
    "Closer look at two examples:"
   ]
  },
  {
   "cell_type": "code",
   "execution_count": 22,
   "metadata": {},
   "outputs": [
    {
     "name": "stdout",
     "output_type": "stream",
     "text": [
      "Two examples of tokens from tokenised_data:\n",
      "\n",
      "Preprocessed data:\n",
      "4.115,4.567;2.628,4.406;1.746,3.903;1.283,3.281;1.064,2.682;0.985,2.167;1.001,1.747;1.097,1.415;1.276,1.159;1.55,0.967;1.943,0.829;2.482,0.737;3.2,0.687;4.123,0.678;5.257,0.716;6.562,0.815;7.924,0.998;9.13,1.307;9.86,1.792;9.749,2.494;8.564,3.374;6.523,4.207;4.348,4.651;2.719,4.538;1.766,4.031;1.271,3.387;1.035,2.764;0.945,2.226;0.951,1.787;1.036,1.44;1.201,1.173;1.456,0.973;1.825,0.827;2.337,0.728;3.024,0.67;3.917,0.652;5.029,0.68;6.335,0.763;7.739,0.925;9.045,1.203;9.947,1.649;10.062,2.316;9.091,3.192;7.12,4.099;4.814,4.678;2.985,4.677;1.89,4.211;1.314,3.563;1.034,2.913;0.918,2.344;0.904,1.876;0.969,1.505;1.11,1.218;1.338,1.001;1.671,0.841;2.137,0.73;2.772,0.661;3.609,0.631;4.669,0.644;5.946,0.706;7.369,0.838;8.777,1.073;9.892,1.46;10.333,2.058;9.727,2.895;7.978,3.859;5.6,4.616;3.489,4.82;2.134,4.464;1.414,3.824;1.061,3.142;0.904,2.528;0.861,2.019;0.9,1.612;1.013,1.295;1.205,1.054;1.493,0.875;1.904,0.747;2.469,0.663;3.226,0.618;4.206,0.612;5.418,0.651;6.824,0.75;8.304,0.935;9.625,1.25;10.438,1.755;10.32,2.508;8.998,3.473;6.709,4.402;4.307,4.883;2.589,4.729;1.63,4.156;1.149,3.455;0.924,2.793;0.84,2.229;0.846,1.774;0.925,1.417;1.078,1.143;1.317,0.937;1.665,0.787\n",
      "\n",
      "After tokenisation:\n",
      "[19, 13, 16, 16, 20, 11, 19, 13, 20, 21, 22, 26, 17, 13, 21, 17, 23, 11, 19, 13, 19, 15, 21, 26, 16, 13, 22, 19, 21, 11, 18, 13, 24, 15, 18, 26, 16, 13, 17, 23, 18, 11, 18, 13, 17, 23, 16, 26, 16, 13, 15, 21, 19, 11, 17, 13, 21, 23, 17, 26, 15, 13, 24, 23, 20, 11, 17, 13, 16, 21, 22, 26, 16, 13, 15, 15, 16, 11, 16, 13, 22, 19, 22, 26, 16, 13, 15, 24, 22, 11, 16, 13, 19, 16, 20, 26, 16, 13, 17, 22, 21, 11, 16, 13, 16, 20, 24, 26, 16, 13, 20, 20, 11, 15, 13, 24, 21, 22, 26, 16, 13, 24, 19, 18, 11, 15, 13, 23, 17, 24, 26, 17, 13, 19, 23, 17, 11, 15, 13, 22, 18, 22, 26, 18, 13, 17, 11, 15, 13, 21, 23, 22, 26, 19, 13, 16, 17, 18, 11, 15, 13, 21, 22, 23, 26, 20, 13, 17, 20, 22, 11, 15, 13, 22, 16, 21, 26, 21, 13, 20, 21, 17, 11, 15, 13, 23, 16, 20, 26, 22, 13, 24, 17, 19, 11, 15, 13, 24, 24, 23, 26, 24, 13, 16, 18, 11, 16, 13, 18, 15, 22, 26, 24, 13, 23, 21, 11, 16, 13, 22, 24, 17, 26, 24, 13, 22, 19, 24, 11, 17, 13, 19, 24, 19, 26, 23, 13, 20, 21, 19, 11, 18, 13, 18, 22, 19, 26, 21, 13, 20, 17, 18, 11, 19, 13, 17, 15, 22, 26, 19, 13, 18, 19, 23, 11, 19, 13, 21, 20, 16, 26, 17, 13, 22, 16, 24, 11, 19, 13, 20, 18, 23, 26, 16, 13, 22, 21, 21, 11, 19, 13, 15, 18, 16, 26, 16, 13, 17, 22, 16, 11, 18, 13, 18, 23, 22, 26, 16, 13, 15, 18, 20, 11, 17, 13, 22, 21, 19, 26, 15, 13, 24, 19, 20, 11, 17, 13, 17, 17, 21, 26, 15, 13, 24, 20, 16, 11, 16, 13, 22, 23, 22, 26, 16, 13, 15, 18, 21, 11, 16, 13, 19, 19, 26, 16, 13, 17, 15, 16, 11, 16, 13, 16, 22, 18, 26, 16, 13, 19, 20, 21, 11, 15, 13, 24, 22, 18, 26, 16, 13, 23, 17, 20, 11, 15, 13, 23, 17, 22, 26, 17, 13, 18, 18, 22, 11, 15, 13, 22, 17, 23, 26, 18, 13, 15, 17, 19, 11, 15, 13, 21, 22, 26, 18, 13, 24, 16, 22, 11, 15, 13, 21, 20, 17, 26, 20, 13, 15, 17, 24, 11, 15, 13, 21, 23, 26, 21, 13, 18, 18, 20, 11, 15, 13, 22, 21, 18, 26, 22, 13, 22, 18, 24, 11, 15, 13, 24, 17, 20, 26, 24, 13, 15, 19, 20, 11, 16, 13, 17, 15, 18, 26, 24, 13, 24, 19, 22, 11, 16, 13, 21, 19, 24, 26, 16, 15, 13, 15, 21, 17, 11, 17, 13, 18, 16, 21, 26, 24, 13, 15, 24, 16, 11, 18, 13, 16, 24, 17, 26, 22, 13, 16, 17, 11, 19, 13, 15, 24, 24, 26, 19, 13, 23, 16, 19, 11, 19, 13, 21, 22, 23, 26, 17, 13, 24, 23, 20, 11, 19, 13, 21, 22, 22, 26, 16, 13, 23, 24, 11, 19, 13, 17, 16, 16, 26, 16, 13, 18, 16, 19, 11, 18, 13, 20, 21, 18, 26, 16, 13, 15, 18, 19, 11, 17, 13, 24, 16, 18, 26, 15, 13, 24, 16, 23, 11, 17, 13, 18, 19, 19, 26, 15, 13, 24, 15, 19, 11, 16, 13, 23, 22, 21, 26, 15, 13, 24, 21, 24, 11, 16, 13, 20, 15, 20, 26, 16, 13, 16, 16, 11, 16, 13, 17, 16, 23, 26, 16, 13, 18, 18, 23, 11, 16, 13, 15, 15, 16, 26, 16, 13, 21, 22, 16, 11, 15, 13, 23, 19, 16, 26, 17, 13, 16, 18, 22, 11, 15, 13, 22, 18, 26, 17, 13, 22, 22, 17, 11, 15, 13, 21, 21, 16, 26, 18, 13, 21, 15, 24, 11, 15, 13, 21, 18, 16, 26, 19, 13, 21, 21, 24, 11, 15, 13, 21, 19, 19, 26, 20, 13, 24, 19, 21, 11, 15, 13, 22, 15, 21, 26, 22, 13, 18, 21, 24, 11, 15, 13, 23, 18, 23, 26, 23, 13, 22, 22, 22, 11, 16, 13, 15, 22, 18, 26, 24, 13, 23, 24, 17, 11, 16, 13, 19, 21, 26, 16, 15, 13, 18, 18, 18, 11, 17, 13, 15, 20, 23, 26, 24, 13, 22, 17, 22, 11, 17, 13, 23, 24, 20, 26, 22, 13, 24, 22, 23, 11, 18, 13, 23, 20, 24, 26, 20, 13, 21, 11, 19, 13, 21, 16, 21, 26, 18, 13, 19, 23, 24, 11, 19, 13, 23, 17, 26, 17, 13, 16, 18, 19, 11, 19, 13, 19, 21, 19, 26, 16, 13, 19, 16, 19, 11, 18, 13, 23, 17, 19, 26, 16, 13, 15, 21, 16, 11, 18, 13, 16, 19, 17, 26, 15, 13, 24, 15, 19, 11, 17, 13, 20, 17, 23, 26, 15, 13, 23, 21, 16, 11, 17, 13, 15, 16, 24, 26, 15, 13, 24, 11, 16, 13, 21, 16, 17, 26, 16, 13, 15, 16, 18, 11, 16, 13, 17, 24, 20, 26, 16, 13, 17, 15, 20, 11, 16, 13, 15, 20, 19, 26, 16, 13, 19, 24, 18, 11, 15, 13, 23, 22, 20, 26, 16, 13, 24, 15, 19, 11, 15, 13, 22, 19, 22, 26, 17, 13, 19, 21, 24, 11, 15, 13, 21, 21, 18, 26, 18, 13, 17, 17, 21, 11, 15, 13, 21, 16, 23, 26, 19, 13, 17, 15, 21, 11, 15, 13, 21, 16, 17, 26, 20, 13, 19, 16, 23, 11, 15, 13, 21, 20, 16, 26, 21, 13, 23, 17, 19, 11, 15, 13, 22, 20, 26, 23, 13, 18, 15, 19, 11, 15, 13, 24, 18, 20, 26, 24, 13, 21, 17, 20, 11, 16, 13, 17, 20, 26, 16, 15, 13, 19, 18, 23, 11, 16, 13, 22, 20, 20, 26, 16, 15, 13, 18, 17, 11, 17, 13, 20, 15, 23, 26, 23, 13, 24, 24, 23, 11, 18, 13, 19, 22, 18, 26, 21, 13, 22, 15, 24, 11, 19, 13, 19, 15, 17, 26, 19, 13, 18, 15, 22, 11, 19, 13, 23, 23, 18, 26, 17, 13, 20, 23, 24, 11, 19, 13, 22, 17, 24, 26, 16, 13, 21, 18, 11, 19, 13, 16, 20, 21, 26, 16, 13, 16, 19, 24, 11, 18, 13, 19, 20, 20, 26, 15, 13, 24, 17, 19, 11, 17, 13, 22, 24, 18, 26, 15, 13, 23, 19, 11, 17, 13, 17, 17, 24, 26, 15, 13, 23, 19, 21, 11, 16, 13, 22, 22, 19, 26, 15, 13, 24, 17, 20, 11, 16, 13, 19, 16, 22, 26, 16, 13, 15, 22, 23, 11, 16, 13, 16, 19, 18, 26, 16, 13, 18, 16, 22, 11, 15, 13, 24, 18, 22, 26, 16, 13, 21, 21, 20, 11, 15, 13, 22, 23, 22]\n",
      "Length of the above token: 1180\n",
      "\n",
      "\n",
      "Preprocessed data:\n",
      "4.738,4.035;3.557,3.817;2.752,3.472;2.234,3.067;1.901,2.664;1.698,2.287;1.586,1.95;1.539,1.657;1.545,1.407;1.596,1.196;1.687,1.02;1.817,0.875;1.988,0.755;2.201,0.657;2.458,0.577;2.764,0.514;3.12,0.463;3.53,0.425;3.995,0.396;4.516,0.377;5.09,0.366;5.713,0.364;6.376,0.37;7.068,0.385;7.771,0.411;8.466,0.449;9.128,0.501;9.73,0.57;10.243,0.66;10.634,0.775;10.872,0.917;10.93,1.091;10.787,1.296;10.434,1.529;9.878,1.779;9.149,2.029;8.295,2.259;7.384,2.445;6.484,2.566;5.65,2.615;4.929,2.588;4.336,2.497;3.871,2.361;3.522,2.195;3.274,2.017;3.111,1.838;3.021,1.666;2.992,1.506;3.018,1.362;3.093,1.234;3.213,1.123;3.376,1.027;3.579,0.947;3.822,0.882;4.101,0.829;4.415,0.789;4.761,0.76;5.134,0.742;5.528,0.736;5.935,0.74;6.346,0.755;6.75,0.782;7.134,0.821;7.482,0.873;7.782,0.938;8.016,1.016;8.173,1.108;8.241,1.213;8.212,1.329;8.086,1.452;7.865,1.578;7.561,1.7;7.19,1.812;6.775,1.905;6.338,1.974;5.904,2.014;5.493,2.023;5.121,2.004;4.801,1.958;4.535,1.892;4.326,1.811;4.171,1.721;4.068,1.628;4.012,1.535;3.999,1.445;4.026,1.362;4.09,1.285;4.187,1.217;4.316,1.158;4.473,1.107;4.654,1.066;4.858,1.034;5.079,1.011;5.314,0.997;5.556,0.992;5.8,0.996;6.04,1.008;6.268,1.03;6.477,1.06;6.659,1.098\n",
      "\n",
      "After tokenisation:\n",
      "[19, 13, 22, 18, 23, 11, 19, 13, 15, 18, 20, 26, 18, 13, 20, 20, 22, 11, 18, 13, 23, 16, 22, 26, 17, 13, 22, 20, 17, 11, 18, 13, 19, 22, 17, 26, 17, 13, 17, 18, 19, 11, 18, 13, 15, 21, 22, 26, 16, 13, 24, 15, 16, 11, 17, 13, 21, 21, 19, 26, 16, 13, 21, 24, 23, 11, 17, 13, 17, 23, 22, 26, 16, 13, 20, 23, 21, 11, 16, 13, 24, 20, 26, 16, 13, 20, 18, 24, 11, 16, 13, 21, 20, 22, 26, 16, 13, 20, 19, 20, 11, 16, 13, 19, 15, 22, 26, 16, 13, 20, 24, 21, 11, 16, 13, 16, 24, 21, 26, 16, 13, 21, 23, 22, 11, 16, 13, 15, 17, 26, 16, 13, 23, 16, 22, 11, 15, 13, 23, 22, 20, 26, 16, 13, 24, 23, 23, 11, 15, 13, 22, 20, 20, 26, 17, 13, 17, 15, 16, 11, 15, 13, 21, 20, 22, 26, 17, 13, 19, 20, 23, 11, 15, 13, 20, 22, 22, 26, 17, 13, 22, 21, 19, 11, 15, 13, 20, 16, 19, 26, 18, 13, 16, 17, 11, 15, 13, 19, 21, 18, 26, 18, 13, 20, 18, 11, 15, 13, 19, 17, 20, 26, 18, 13, 24, 24, 20, 11, 15, 13, 18, 24, 21, 26, 19, 13, 20, 16, 21, 11, 15, 13, 18, 22, 22, 26, 20, 13, 15, 24, 11, 15, 13, 18, 21, 21, 26, 20, 13, 22, 16, 18, 11, 15, 13, 18, 21, 19, 26, 21, 13, 18, 22, 21, 11, 15, 13, 18, 22, 26, 22, 13, 15, 21, 23, 11, 15, 13, 18, 23, 20, 26, 22, 13, 22, 22, 16, 11, 15, 13, 19, 16, 16, 26, 23, 13, 19, 21, 21, 11, 15, 13, 19, 19, 24, 26, 24, 13, 16, 17, 23, 11, 15, 13, 20, 15, 16, 26, 24, 13, 22, 18, 11, 15, 13, 20, 22, 26, 16, 15, 13, 17, 19, 18, 11, 15, 13, 21, 21, 26, 16, 15, 13, 21, 18, 19, 11, 15, 13, 22, 22, 20, 26, 16, 15, 13, 23, 22, 17, 11, 15, 13, 24, 16, 22, 26, 16, 15, 13, 24, 18, 11, 16, 13, 15, 24, 16, 26, 16, 15, 13, 22, 23, 22, 11, 16, 13, 17, 24, 21, 26, 16, 15, 13, 19, 18, 19, 11, 16, 13, 20, 17, 24, 26, 24, 13, 23, 22, 23, 11, 16, 13, 22, 22, 24, 26, 24, 13, 16, 19, 24, 11, 17, 13, 15, 17, 24, 26, 23, 13, 17, 24, 20, 11, 17, 13, 17, 20, 24, 26, 22, 13, 18, 23, 19, 11, 17, 13, 19, 19, 20, 26, 21, 13, 19, 23, 19, 11, 17, 13, 20, 21, 21, 26, 20, 13, 21, 20, 11, 17, 13, 21, 16, 20, 26, 19, 13, 24, 17, 24, 11, 17, 13, 20, 23, 23, 26, 19, 13, 18, 18, 21, 11, 17, 13, 19, 24, 22, 26, 18, 13, 23, 22, 16, 11, 17, 13, 18, 21, 16, 26, 18, 13, 20, 17, 17, 11, 17, 13, 16, 24, 20, 26, 18, 13, 17, 22, 19, 11, 17, 13, 15, 16, 22, 26, 18, 13, 16, 16, 16, 11, 16, 13, 23, 18, 23, 26, 18, 13, 15, 17, 16, 11, 16, 13, 21, 21, 21, 26, 17, 13, 24, 24, 17, 11, 16, 13, 20, 15, 21, 26, 18, 13, 15, 16, 23, 11, 16, 13, 18, 21, 17, 26, 18, 13, 15, 24, 18, 11, 16, 13, 17, 18, 19, 26, 18, 13, 17, 16, 18, 11, 16, 13, 16, 17, 18, 26, 18, 13, 18, 22, 21, 11, 16, 13, 15, 17, 22, 26, 18, 13, 20, 22, 24, 11, 15, 13, 24, 19, 22, 26, 18, 13, 23, 17, 17, 11, 15, 13, 23, 23, 17, 26, 19, 13, 16, 15, 16, 11, 15, 13, 23, 17, 24, 26, 19, 13, 19, 16, 20, 11, 15, 13, 22, 23, 24, 26, 19, 13, 22, 21, 16, 11, 15, 13, 22, 21, 26, 20, 13, 16, 18, 19, 11, 15, 13, 22, 19, 17, 26, 20, 13, 20, 17, 23, 11, 15, 13, 22, 18, 21, 26, 20, 13, 24, 18, 20, 11, 15, 13, 22, 19, 26, 21, 13, 18, 19, 21, 11, 15, 13, 22, 20, 20, 26, 21, 13, 22, 20, 11, 15, 13, 22, 23, 17, 26, 22, 13, 16, 18, 19, 11, 15, 13, 23, 17, 16, 26, 22, 13, 19, 23, 17, 11, 15, 13, 23, 22, 18, 26, 22, 13, 22, 23, 17, 11, 15, 13, 24, 18, 23, 26, 23, 13, 15, 16, 21, 11, 16, 13, 15, 16, 21, 26, 23, 13, 16, 22, 18, 11, 16, 13, 16, 15, 23, 26, 23, 13, 17, 19, 16, 11, 16, 13, 17, 16, 18, 26, 23, 13, 17, 16, 17, 11, 16, 13, 18, 17, 24, 26, 23, 13, 15, 23, 21, 11, 16, 13, 19, 20, 17, 26, 22, 13, 23, 21, 20, 11, 16, 13, 20, 22, 23, 26, 22, 13, 20, 21, 16, 11, 16, 13, 22, 26, 22, 13, 16, 24, 11, 16, 13, 23, 16, 17, 26, 21, 13, 22, 22, 20, 11, 16, 13, 24, 15, 20, 26, 21, 13, 18, 18, 23, 11, 16, 13, 24, 22, 19, 26, 20, 13, 24, 15, 19, 11, 17, 13, 15, 16, 19, 26, 20, 13, 19, 24, 18, 11, 17, 13, 15, 17, 18, 26, 20, 13, 16, 17, 16, 11, 17, 13, 15, 15, 19, 26, 19, 13, 23, 15, 16, 11, 16, 13, 24, 20, 23, 26, 19, 13, 20, 18, 20, 11, 16, 13, 23, 24, 17, 26, 19, 13, 18, 17, 21, 11, 16, 13, 23, 16, 16, 26, 19, 13, 16, 22, 16, 11, 16, 13, 22, 17, 16, 26, 19, 13, 15, 21, 23, 11, 16, 13, 21, 17, 23, 26, 19, 13, 15, 16, 17, 11, 16, 13, 20, 18, 20, 26, 18, 13, 24, 24, 24, 11, 16, 13, 19, 19, 20, 26, 19, 13, 15, 17, 21, 11, 16, 13, 18, 21, 17, 26, 19, 13, 15, 24, 11, 16, 13, 17, 23, 20, 26, 19, 13, 16, 23, 22, 11, 16, 13, 17, 16, 22, 26, 19, 13, 18, 16, 21, 11, 16, 13, 16, 20, 23, 26, 19, 13, 19, 22, 18, 11, 16, 13, 16, 15, 22, 26, 19, 13, 21, 20, 19, 11, 16, 13, 15, 21, 21, 26, 19, 13, 23, 20, 23, 11, 16, 13, 15, 18, 19, 26, 20, 13, 15, 22, 24, 11, 16, 13, 15, 16, 16, 26, 20, 13, 18, 16, 19, 11, 15, 13, 24, 24, 22, 26, 20, 13, 20, 20, 21, 11, 15, 13, 24, 24, 17, 26, 20, 13, 23, 11, 15, 13, 24, 24, 21, 26, 21, 13, 15, 19, 11, 16, 13, 15, 15, 23, 26, 21, 13, 17, 21, 23, 11, 16, 13, 15, 18, 26, 21, 13, 19, 22, 22, 11, 16, 13, 15, 21, 26, 21, 13, 21, 20, 24, 11, 16, 13, 15, 24, 23]\n",
      "Length of the above token: 1182\n"
     ]
    }
   ],
   "source": [
    "# Print tokenised output for the first system\n",
    "print('Two examples of tokens from tokenised_data:')\n",
    "print('')\n",
    "print('Preprocessed data:')\n",
    "print(traject_scaled_string[3])\n",
    "print('')\n",
    "print('After tokenisation:')\n",
    "print(tokenised_data.iloc[3][\"input_ids\"].squeeze().tolist())  # Tokenised tensor\n",
    "print('Length of the above token:',len(tokenised_data.iloc[3][\"input_ids\"].squeeze().tolist()))  # Tokenised tensor\n",
    "print('')\n",
    "print('')\n",
    "print('Preprocessed data:')\n",
    "print(traject_scaled_string[990])\n",
    "print('')\n",
    "print('After tokenisation:')\n",
    "print(tokenised_data.iloc[990][\"input_ids\"].squeeze().tolist())\n",
    "print('Length of the above token:',len(tokenised_data.iloc[990][\"input_ids\"].squeeze().tolist()))"
   ]
  },
  {
   "cell_type": "markdown",
   "metadata": {},
   "source": [
    "Summary of <b>Part 2 (a)</b>:\n",
    "\n",
    "- Load the predator-prey dataset from the `lotka_volterra_data.h5` file.\n",
    "- Applied the LLMTIME preprocessing scheme, this includes:\n",
    "    - Scale the numaric values using the fucntion ` scaling_operator` (in file `preprocessor.py`).\n",
    "    - Round the values to a fixed number of decimal places (we have used 3 d.p.).\n",
    "    - Converted the sequences into formatted strings using:\n",
    "        - Commas to separate variables at each timestep.\n",
    "        - Semicolons to separate different timesteps.\n",
    "        - Collection of every system.\n",
    "- Tokenised the processed sequences using the Qwen2.5 tokeniser.  "
   ]
  },
  {
   "cell_type": "markdown",
   "metadata": {},
   "source": [
    "# Part 2 (b)"
   ]
  },
  {
   "cell_type": "markdown",
   "metadata": {},
   "source": [
    "This section aims to evaluate the performance of the untrained Qwen2.5-Instruct model's forecasting ability on the tokenised dataset, i.e. `tokenised_data` from Part 2(a) (previus section).\n",
    "\n",
    "Due to lack of computational power and limited number of FLOPS available for this project, we are not going to invest much time to this part. To save time and FLOPS we are only going to consider a subset of the dataset, $10\\%$ of our original dataset, i.e. 100 systems out of the available 1000.\n",
    "\n",
    "Approach to the problem:\n",
    "\n",
    "1. Select the first 100 system from our dataset.\n",
    "2. Select the first 50 data points from each of the 100 selected systems\n",
    "3. Tokenise the selected subset.\n",
    "4. Use `model.generate` to predict and decode the remaining 50 pairs of datapoints.\n",
    "5. Convert back to tameseries data.\n",
    "6. Visualise: select one of the predictions and plot them against actual data.\n",
    "7. Measure error predicted vs real data, for each of the 100 selected systems.\n",
    "\n",
    "After completing all the above steps, we can analyse and comment on the results."
   ]
  },
  {
   "cell_type": "markdown",
   "metadata": {},
   "source": [
    "#### Steps 1 \\& 2\n",
    "Select the first 100 system from our dataset, of which the first 50 data points from each of the 100 selected systems.\n",
    "\n",
    "The easiest approach is to work with `df_traj_scaled` (`pandas.DataFrame` format). Easy to select 100 system and cut off the last half of the data-points (prey, predator)."
   ]
  },
  {
   "cell_type": "code",
   "execution_count": 23,
   "metadata": {},
   "outputs": [
    {
     "name": "stderr",
     "output_type": "stream",
     "text": [
      "/tmp/ipykernel_52048/2856005867.py:5: DeprecationWarning: DataFrameGroupBy.apply operated on the grouping columns. This behavior is deprecated, and in a future version of pandas the grouping columns will be excluded from the operation. Either pass `include_groups=False` to exclude the groupings or explicitly select the grouping columns after groupby to silence this warning.\n",
      "  df_sub_traj_scaled = df_filtered.groupby('system_id').apply(lambda x: x.iloc[:-50]).reset_index(drop=True)\n"
     ]
    }
   ],
   "source": [
    "# Step 1: Keep only the first 100 system_ids\n",
    "df_filtered = df_traj_scaled[df_traj_scaled['system_id'] < 100]  \n",
    "\n",
    "# Step 2: Remove last 50 rows for each system_id\n",
    "df_sub_traj_scaled = df_filtered.groupby('system_id').apply(lambda x: x.iloc[:-50]).reset_index(drop=True)"
   ]
  },
  {
   "cell_type": "markdown",
   "metadata": {},
   "source": [
    "#### Step 3\n",
    "<b>Tokenise the selected subset</b>:\n",
    "\n",
    "Recall Part 2(a): before tokenisation we had to convert data into string, we used the function `array_to_string` from `preprocessor.py`. Ultimately we tokenised the converted dataset with the function `tokenize_time_series` from `qwen.py`. Here we are going to repeat the same process."
   ]
  },
  {
   "cell_type": "code",
   "execution_count": 24,
   "metadata": {},
   "outputs": [],
   "source": [
    "str_sub_traj_scaled = array_to_string(df_sub_traj_scaled) # Converting subset of Timeseries data into str  \n",
    "tok_sub_traj_scaled = tokenize_time_series(str_sub_traj_scaled) # Tokenising sub-dataset"
   ]
  },
  {
   "cell_type": "markdown",
   "metadata": {},
   "source": [
    "Below a basic function to determone the max lenght of a tokenised sequence."
   ]
  },
  {
   "cell_type": "code",
   "execution_count": 25,
   "metadata": {},
   "outputs": [],
   "source": [
    "def max_sequence_length(tokenized_data):\n",
    "    \n",
    "    max_length = max(entry[\"input_ids\"].shape[1] for entry in tokenized_data)\n",
    "\n",
    "    return f'Max Sequence Length: {max_length}'"
   ]
  },
  {
   "cell_type": "markdown",
   "metadata": {},
   "source": [
    "Comparing full dataset vs sub-dataset max sequence length"
   ]
  },
  {
   "cell_type": "code",
   "execution_count": 26,
   "metadata": {},
   "outputs": [
    {
     "name": "stdout",
     "output_type": "stream",
     "text": [
      "Full dataset:\n",
      "Max Sequence Length: 1281\n",
      "\n",
      "Sub-dataset:\n",
      "Max Sequence Length: 633\n"
     ]
    }
   ],
   "source": [
    "print('Full dataset:')\n",
    "print(max_sequence_length(tokenised_data))\n",
    "print('')\n",
    "print('Sub-dataset:')\n",
    "print(max_sequence_length(tok_sub_traj_scaled))"
   ]
  },
  {
   "cell_type": "markdown",
   "metadata": {},
   "source": [
    "As expected, from the above output the largest sequence of each tokenised dataset has dropped by ~ $\\frac{1}{2}$."
   ]
  },
  {
   "cell_type": "markdown",
   "metadata": {},
   "source": [
    "#### Step 4\n",
    "<b>Use `model.generate` to predict and decode the remaining 50 pairs of datapoints.</b>\n",
    "\n",
    "We need to know the maximum lenght for each sequence in the tokenised sub-datased."
   ]
  },
  {
   "cell_type": "code",
   "execution_count": 27,
   "metadata": {},
   "outputs": [
    {
     "name": "stdout",
     "output_type": "stream",
     "text": [
      "List of sequence lengths:\n",
      "[609, 613, 608, 590, 631, 586, 613, 596, 583, 586, 592, 607, 588, 585, 595, 589, 596, 604, 594, 605, 585, 588, 589, 594, 605, 588, 588, 589, 595, 600, 596, 632, 591, 592, 605, 600, 598, 604, 633, 609, 593, 591, 592, 603, 605, 599, 606, 582, 613, 590, 593, 583, 624, 589, 614, 591, 590, 611, 589, 590, 598, 592, 620, 623, 600, 614, 606, 589, 583, 601, 587, 604, 594, 588, 590, 604, 597, 596, 610, 605, 588, 583, 617, 587, 601, 597, 630, 588, 589, 595, 593, 604, 601, 586, 616, 588, 625, 587, 588, 609]\n"
     ]
    }
   ],
   "source": [
    "max_lengths = []  \n",
    "range_model = 100\n",
    "\n",
    "for i in range(range_model):\n",
    "    input_ids = tok_sub_traj_scaled[i][\"input_ids\"]  # Extract the input IDs\n",
    "    max_length = input_ids.shape[1]  # Get the length of the sequence\n",
    "    max_lengths.append(max_length)  # Append only the integer value\n",
    "print('List of sequence lengths:')\n",
    "print(max_lengths)"
   ]
  },
  {
   "cell_type": "markdown",
   "metadata": {},
   "source": [
    "Collecting `input_ids` and `attention_mask` into `input_ids_list` and `attention_mask_list` respectivelly. "
   ]
  },
  {
   "cell_type": "code",
   "execution_count": 28,
   "metadata": {},
   "outputs": [],
   "source": [
    "input_ids_list = [tok_sub_traj_scaled[i][\"input_ids\"] for i in range(range_model)]\n",
    "attention_masks_list = [tok_sub_traj_scaled[i][\"attention_mask\"] for i in range(range_model)]"
   ]
  },
  {
   "cell_type": "markdown",
   "metadata": {},
   "source": [
    "Below we are using `model.generate` to predict the next 50 pairs (prey, predator), using the intrained Qwen2.5-Instruct model's forecasting ability on our tokenised data subset."
   ]
  },
  {
   "cell_type": "code",
   "execution_count": null,
   "metadata": {},
   "outputs": [],
   "source": [
    "output_list = []\n",
    "\n",
    "for i in range(range_model):\n",
    "    output = model.generate(input_ids_list[i], # Sequence, numerical tokens\n",
    "                            attention_mask = attention_masks_list[i], # \n",
    "                            max_length = 2*max_lengths[i], # Maximum length of generated output\n",
    "                            num_return_sequences=1, # Number of prediction to return per input\n",
    "                            do_sample=True, # Enables sampling (i.e. introduces randomness)\n",
    "                            temperature=0.7, # Controls randomness of predictions\n",
    "                            top_p=0.8, # Nucleus sampling (filters low-probability tokens)\n",
    "                            top_k=20 # Limits the number of token options at each step\n",
    "                            )\n",
    "    output_list.append(output)"
   ]
  },
  {
   "cell_type": "markdown",
   "metadata": {},
   "source": [
    "Below we are decoding the predicted output and collecting it into `decoded_output_list`."
   ]
  },
  {
   "cell_type": "code",
   "execution_count": null,
   "metadata": {},
   "outputs": [],
   "source": [
    "decoded_output_list = []\n",
    "\n",
    "for i in range(range_model):\n",
    "    decoded_output = tokenizer.decode(output_list[i][0], skip_special_tokens=True)\n",
    "    decoded_output_list.append(decoded_output)"
   ]
  },
  {
   "cell_type": "markdown",
   "metadata": {},
   "source": [
    "#### Step 5\n",
    "\n",
    "Converting strings output in `decoded_output_list` back into timeseries data."
   ]
  },
  {
   "cell_type": "code",
   "execution_count": null,
   "metadata": {},
   "outputs": [],
   "source": [
    "string_to_array_list = []\n",
    "\n",
    "for i in range(range_model):\n",
    "    decoded_to_number = string_to_array(decoded_output_list[i])\n",
    "    string_to_array_list.append(decoded_to_number)"
   ]
  },
  {
   "cell_type": "markdown",
   "metadata": {},
   "source": [
    "Saving encoded prediction, as to predict the next ~50 pair points in each of the 100 selected systems, required a run time of 140 minutes (~2h and 20 minutes). The file is saved as `my_decoded_predictions.npz`. I used `numpy.savez`, as `string_to_array_list` is a list of arrays."
   ]
  },
  {
   "cell_type": "code",
   "execution_count": null,
   "metadata": {},
   "outputs": [],
   "source": [
    "#my_decoded_predictions = string_to_array_list\n",
    "#type(my_decoded_predictions)\n",
    "#np.savez(\"my_decoded_predictions.npz\", *my_decoded_predictions)"
   ]
  },
  {
   "cell_type": "markdown",
   "metadata": {},
   "source": [
    "#### Step 6\n",
    "\n",
    "Determining metrics:\n",
    "\n",
    "- Mean Square Error (MSE).\n",
    "- Root Mean Square Error (RMSE).\n",
    "- Error of each pair of points for one system at the time."
   ]
  },
  {
   "cell_type": "markdown",
   "metadata": {},
   "source": [
    "#### MSE\n",
    "\n",
    "Mean Square Error.\n",
    "\n",
    "This is computed by determining the square difference between $\\hat{y}_i$ (predicted values), and $y_i$ (true values), and take the average. For $n$ points:\n",
    "$$\n",
    "MSE = \\frac{1}{n} \\sum^{n}_{i=1} (y_i - \\hat{y}_i)^2\n",
    "$$"
   ]
  },
  {
   "cell_type": "markdown",
   "metadata": {},
   "source": [
    "Since our input for `model.generate` where the first 50 pair point (prey, predator), when calculating the mean square error (MSE), we can remove the first 50 datapoints from our prediced output, as model provides input tokens $+$ predicted tokens. "
   ]
  },
  {
   "cell_type": "code",
   "execution_count": 71,
   "metadata": {},
   "outputs": [],
   "source": [
    "# Removing the first 50 input tokens and true values\n",
    "\n",
    "predicted_output = []\n",
    "true_values = []\n",
    "for i in range(len(my_decoded_predictions)):\n",
    "    sub_output = my_decoded_predictions[i]\n",
    "    sub_output_min_50 = sub_output[50:]\n",
    "    true_v = trajectories_scaled[i]\n",
    "    true_v_min_50 = true_v[50:]\n",
    "    predicted_output.append(sub_output_min_50)\n",
    "    true_values.append(true_v_min_50)"
   ]
  },
  {
   "cell_type": "code",
   "execution_count": null,
   "metadata": {},
   "outputs": [],
   "source": [
    "MSE_values = []\n",
    "\n",
    "\n",
    "for i in range(len(true_values)):\n",
    "\n",
    "    # Truncate to match the shorter list\n",
    "    min_length = min(len(predicted_output[i]), len(true_values[i]))\n",
    "    pr_out = predicted_output[i][:min_length]\n",
    "    true_val = true_values[i][:min_length]\n",
    "\n",
    "    # Compute the MSE\n",
    "    mse_prey = mean_absolute_error(pr_out[:,0], true_val[:,0]) # Computing MSE for prey\n",
    "    mse_predator = mean_absolute_error(pr_out[:,1], true_val[:,1]) # Computing MSE for predator\n",
    "    MSE_values.append([mse_prey, mse_predator])\n",
    "\n",
    "\n",
    "# Collecting everything into a dataframe\n",
    "# Create a DataFrame\n",
    "df_MSE_values = pd.DataFrame({\n",
    "    \"system_id\": np.arange(len(MSE_values)),  \n",
    "    \"MSE for prey\": np.array(MSE_values)[:, 0],  # Flatten prey values\n",
    "    \"MSE for predator\": np.array(MSE_values)[:, 1]  # Flatten predator values\n",
    "})\n",
    "#df_MSE_values\n",
    "#df_MSE_values.to_csv('mse_true_predicted.csv', index=False) # Saving as a csv using pandas"
   ]
  },
  {
   "cell_type": "markdown",
   "metadata": {},
   "source": [
    "#### RMSE\n",
    "\n",
    "Root Mean Square Error\n",
    "\n",
    "To compute this simply take the root of each MSE. RMSE, in general, helps compare errors on the same scale as the data, i.e. linear.\n",
    "$$\n",
    "RMSE = \\sqrt{MSE}\n",
    "$$"
   ]
  },
  {
   "cell_type": "code",
   "execution_count": 77,
   "metadata": {},
   "outputs": [],
   "source": [
    "# We already computed MSE all we have to do is to take the root of each value in MSE DataFrame\n",
    "# Use np.sqrt() and .tolist() to compute RMSE using mse_true_predicted \"saved MSE dataframe\"\n",
    "mse_true_predicted = mse_true_predicted_loaded\n",
    "df_RMSE_values = pd.DataFrame({\n",
    "    \"system_id\": mse_true_predicted['system_id'].tolist(),  \n",
    "    \"RMSE for prey\": np.sqrt(mse_true_predicted['MSE for prey'].tolist()),  \n",
    "    \"RMSE for predator\": np.sqrt(mse_true_predicted['MSE for predator'].tolist())  \n",
    "})\n",
    "\n",
    "# Saving the above DataFrame as a csv file\n",
    "#df_RMSE_values.to_csv('saved_predictions_2b/rmse_true_predicted.csv', index=False)\n"
   ]
  },
  {
   "cell_type": "markdown",
   "metadata": {},
   "source": [
    "#### Histogram of Error Mean\n",
    "\n",
    "Here we want to visualise the distribution of errors (difference between predicted and true values). This can be done in differet ways (both executed):\n",
    "\n",
    "- i. Per Time Step (Point-Wise Error Distribution):\n",
    "    - Computing the error at each step:\n",
    "    $$\n",
    "    e_t = y_t - \\hat{y}_t\n",
    "    $$ \n",
    "    - There is a fucntion in `src.plotting`, namely `plot_error_hist_system`, used for plotting one histogram at the time related to a single system.\n",
    "    - From visualising each histogram individually, one can check the distribution of errors."
   ]
  },
  {
   "cell_type": "code",
   "execution_count": null,
   "metadata": {},
   "outputs": [
    {
     "name": "stdout",
     "output_type": "stream",
     "text": [
      "Length of error_per_system: 100\n"
     ]
    }
   ],
   "source": [
    "# Computing the error for each system\n",
    "\n",
    "error_per_system = []\n",
    "\n",
    "for i in range(len(true_values)):\n",
    "\n",
    "    # Truncate to match the shorter list\n",
    "    min_length = min(len(predicted_output[i]), len(true_values[i]))\n",
    "    pr_out = predicted_output[i][:min_length]\n",
    "    true_val = true_values[i][:min_length]\n",
    "\n",
    "    # Computing errors\n",
    "    prey_error = true_val[:,0] - pr_out[:,0]\n",
    "    predator_error = true_val[:,1] - pr_out[:,1]\n",
    "    \n",
    "    # Collecting errors into a list\n",
    "    error_per_system.append([prey_error, predator_error])\n",
    "\n",
    "print('Length of error_per_system:',len(error_per_system))\n",
    "\n",
    "# Saving system as \n",
    "#np.savez(\"saved_predictions_2b/error_per_system.npz\", *error_per_system)"
   ]
  },
  {
   "cell_type": "code",
   "execution_count": 81,
   "metadata": {},
   "outputs": [
    {
     "data": {
      "image/png": "[encoded data removed]",
      "text/plain": [
       "<Figure size 1200x500 with 2 Axes>"
      ]
     },
     "metadata": {},
     "output_type": "display_data"
    },
    {
     "data": {
      "image/png": "[encoded data removed]",
      "text/plain": [
       "<Figure size 1200x500 with 2 Axes>"
      ]
     },
     "metadata": {},
     "output_type": "display_data"
    }
   ],
   "source": [
    "# Print as many historgrams as you want from 0-99.\n",
    "for i in range(2):\n",
    "    plot_error_hist_system(error_per_system_loaded, system_id=i, bins=30)"
   ]
  },
  {
   "cell_type": "markdown",
   "metadata": {},
   "source": [
    "- ii. Per System (System-Level Error Distribution)"
   ]
  },
  {
   "cell_type": "markdown",
   "metadata": {},
   "source": [
    "Plotting histogram on MSE"
   ]
  },
  {
   "cell_type": "code",
   "execution_count": null,
   "metadata": {},
   "outputs": [
    {
     "data": {
      "image/png": "[encoded data removed]",
      "text/plain": [
       "<Figure size 1200x500 with 2 Axes>"
      ]
     },
     "metadata": {},
     "output_type": "display_data"
    },
    {
     "data": {
      "image/png": "[encoded data removed]",
      "text/plain": [
       "<Figure size 1200x500 with 2 Axes>"
      ]
     },
     "metadata": {},
     "output_type": "display_data"
    }
   ],
   "source": [
    "plot_hist_MSE(mse_true_predicted_loaded,bins=30) # Plotting MSE distribution\n",
    "plot_hist_RMSE(rmse_true_predicted_loaded,bins=30) # Plotting RMSE distribution"
   ]
  },
  {
   "cell_type": "markdown",
   "metadata": {},
   "source": [
    "#### Step 7\n",
    "\n",
    "Visualising one of the 100 predicted systems vs its true values.\n",
    "\n",
    "From `src.plotting` we can import `PlotProject`, this is a class designed to host all the plotting codes that will be required for this project allowing us to save space in our notebook and keep it tidy.\n",
    "\n",
    "For this particular casre we want to use `plot_pred_vs_true`, this will allow the user to plot the predicted prey vs predator population and compare it too true values for each system."
   ]
  },
  {
   "cell_type": "code",
   "execution_count": 86,
   "metadata": {},
   "outputs": [
    {
     "name": "stdout",
     "output_type": "stream",
     "text": [
      "Decoded prediction shape: (100, 2)\n",
      "True dataset shape: (100, 2)\n"
     ]
    },
    {
     "data": {
      "image/png": "[encoded data removed]",
      "text/plain": [
       "<Figure size 1000x500 with 1 Axes>"
      ]
     },
     "metadata": {},
     "output_type": "display_data"
    }
   ],
   "source": [
    "plot_pred_vs_true(my_decoded_predictions, traject_scaled_string, 5)# Plotting predicted vs true values"
   ]
  },
  {
   "cell_type": "markdown",
   "metadata": {},
   "source": [
    "# Floating Point Operators (FLOPS for Baseline)\n",
    "\n",
    "This section aims to provide an estimate of the total number of FLOPS utilised for Baseline."
   ]
  },
  {
   "cell_type": "markdown",
   "metadata": {},
   "source": [
    "## FLOPS Part 2(a):\n",
    "- Scaling and Rounding of time series data\n",
    "- Tokenisation of numeric sequence\n",
    "- String conversion (prey, predator values into text format)\n",
    "\n",
    "All the above FLOPS calculations are not provided, as according to the project instructions, hence we are invited to neglect them. What we should focus on instead is, determining the number of FLOPS for ML models."
   ]
  },
  {
   "cell_type": "markdown",
   "metadata": {},
   "source": [
    "## FLOPS Part 2(b)\n",
    "\n",
    "For part 2(b), we need to consider the following calculation:\n",
    "-\tOnly Forward Pass (we are feeding tokens to an untrained model)\n",
    "-\tNo gradients, no backpropagation, no optimiser steps\n",
    "\n",
    "\n",
    "For each token generated, the FLOPS of the forward pass can be estimated as\n",
    "$$\n",
    "\\text{FLOPs per token} = \\text{num\\_layers} \\times \\left(\\text{Attention FLOPs} + \\text{Feedforward FLOPs} + \\text{Normalization FLOPs} \\right)\n",
    "$$\n",
    "Where:\n",
    "\n",
    "- i. Self-Attention FLOPS is conmputed as\n",
    "    $$\n",
    "    \\text{num\\_heads} \\times \\text{seq\\_length} \\times d_{\\text{model}} \\times (2d_{\\text{model}} - 1)\n",
    "    $$\n",
    "\n",
    "- ii. Feedforward FLOPS are computed as\n",
    "    $$\n",
    "    2 \\times \\text{seq\\_length} \\times d_{\\text{model}} \\times (2d_{\\text{model}} - 1)\n",
    "    $$\n",
    "\n",
    "- iii. Total number of FLOPS per step is computed by multiplying by `num_kayers` and the total number of tokens generated.\n",
    "\n",
    "These considerations are all implemented with the function `compute_generation_flops`, imported from the `flops.py` located in the directory `src`.\n"
   ]
  },
  {
   "cell_type": "code",
   "execution_count": 31,
   "metadata": {},
   "outputs": [
    {
     "name": "stdout",
     "output_type": "stream",
     "text": [
      "Number of attention heads: 14\n",
      "Number of hidden dimensions: 896\n",
      "Number of Transformer layers: 24\n"
     ]
    }
   ],
   "source": [
    "# Extract model parameters\n",
    "num_heads = model.config.num_attention_heads\n",
    "d_model = model.config.hidden_size\n",
    "num_layers = model.config.num_hidden_layers\n",
    "\n",
    "print(f\"Number of attention heads: {num_heads}\")\n",
    "print(f\"Number of hidden dimensions: {d_model}\")\n",
    "print(f\"Number of Transformer layers: {num_layers}\")"
   ]
  },
  {
   "cell_type": "code",
   "execution_count": null,
   "metadata": {},
   "outputs": [],
   "source": [
    "from src.flops import compute_generation_flops # import required function"
   ]
  },
  {
   "cell_type": "code",
   "execution_count": 33,
   "metadata": {},
   "outputs": [
    {
     "name": "stdout",
     "output_type": "stream",
     "text": [
      "Total number of FLOPS utilised for Baseline part 2(b): 78407988019200\n"
     ]
    }
   ],
   "source": [
    "# Computing number of flops for part 2(b)\n",
    "\n",
    "total_flops_2b = compute_generation_flops(input_ids_list, max_lengths)\n",
    "\n",
    "print('Total number of FLOPS utilised for Baseline part 2(b):', total_flops_2b)"
   ]
  },
  {
   "cell_type": "markdown",
   "metadata": {},
   "source": [
    "As we can see from the above output, the total number of FLOPS for just this section is approximately $8\\times 10^{13}$. Which is way to much for this part of the project. I might have to cut it down a little!"
   ]
  }
 ],
 "metadata": {
  "kernelspec": {
   "display_name": "m2_venv",
   "language": "python",
   "name": "python3"
  },
  "language_info": {
   "codemirror_mode": {
    "name": "ipython",
    "version": 3
   },
   "file_extension": ".py",
   "mimetype": "text/x-python",
   "name": "python",
   "nbconvert_exporter": "python",
   "pygments_lexer": "ipython3",
   "version": "3.12.3"
  }
 },
 "nbformat": 4,
 "nbformat_minor": 2
}
