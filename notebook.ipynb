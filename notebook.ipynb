{
 "cells": [
  {
   "cell_type": "markdown",
   "metadata": {},
   "source": [
    "# Introduction"
   ]
  },
  {
   "cell_type": "code",
   "execution_count": 1,
   "metadata": {},
   "outputs": [],
   "source": [
    "# Import required packages\n",
    "import torch\n",
    "import math\n",
    "import numpy as np\n",
    "import matplotlib.pyplot as plt\n",
    "import h5py\n",
    "import pandas as pd"
   ]
  },
  {
   "cell_type": "markdown",
   "metadata": {},
   "source": [
    "Open `lotka_volterra_data.h5` file on notebook"
   ]
  },
  {
   "cell_type": "code",
   "execution_count": 2,
   "metadata": {},
   "outputs": [],
   "source": [
    "with h5py.File('lotka_volterra_data.h5', 'r') as f:\n",
    "    # Access the full dataset\n",
    "    trajectories = f['trajectories'][:]\n",
    "    time_points = f['time'][:]\n",
    "\n",
    "    # Access a single trajectory\n",
    "    system_id = 0 # First system"
   ]
  },
  {
   "cell_type": "markdown",
   "metadata": {},
   "source": [
    "Checikng shape of the dataset, we expect trajectories to be of size $(1000 \\times 100 \\times 2)$, and time_points of size $(100 \\times 1)$"
   ]
  },
  {
   "cell_type": "code",
   "execution_count": 3,
   "metadata": {},
   "outputs": [
    {
     "name": "stdout",
     "output_type": "stream",
     "text": [
      "Time points shape: (100,)\n",
      "\n",
      "Trajectory shape (pray/predator): (1000, 100, 2)\n"
     ]
    }
   ],
   "source": [
    "print('Time points shape:',time_points.shape)\n",
    "print('')\n",
    "print('Trajectory shape (pray/predator):',trajectories.shape)"
   ]
  },
  {
   "cell_type": "code",
   "execution_count": 4,
   "metadata": {},
   "outputs": [],
   "source": [
    "\n",
    "num_systems, num_time_steps, num_variables = trajectories.shape\n",
    "# Create a DataFrame\n",
    "df_traj = pd.DataFrame({\n",
    "    \"system_id\": np.repeat(np.arange(num_systems), num_time_steps),  # Repeats 0-999, each 100 times\n",
    "    \"time_step\": np.repeat(time_points[np.arange(num_time_steps)], num_systems),    # Cycles 0-99 for each system\n",
    "    \"prey\": trajectories[:, :, 0].flatten(),  # Flatten prey values\n",
    "    \"predator\": trajectories[:, :, 1].flatten()  # Flatten predator values\n",
    "})\n"
   ]
  },
  {
   "cell_type": "code",
   "execution_count": 5,
   "metadata": {},
   "outputs": [
    {
     "data": {
      "text/html": [
       "<div>\n",
       "<style scoped>\n",
       "    .dataframe tbody tr th:only-of-type {\n",
       "        vertical-align: middle;\n",
       "    }\n",
       "\n",
       "    .dataframe tbody tr th {\n",
       "        vertical-align: top;\n",
       "    }\n",
       "\n",
       "    .dataframe thead th {\n",
       "        text-align: right;\n",
       "    }\n",
       "</style>\n",
       "<table border=\"1\" class=\"dataframe\">\n",
       "  <thead>\n",
       "    <tr style=\"text-align: right;\">\n",
       "      <th></th>\n",
       "      <th>system_id</th>\n",
       "      <th>time_step</th>\n",
       "      <th>prey</th>\n",
       "      <th>predator</th>\n",
       "    </tr>\n",
       "  </thead>\n",
       "  <tbody>\n",
       "    <tr>\n",
       "      <th>0</th>\n",
       "      <td>0</td>\n",
       "      <td>0.0</td>\n",
       "      <td>0.949917</td>\n",
       "      <td>1.040624</td>\n",
       "    </tr>\n",
       "    <tr>\n",
       "      <th>1</th>\n",
       "      <td>0</td>\n",
       "      <td>0.0</td>\n",
       "      <td>0.740551</td>\n",
       "      <td>0.779542</td>\n",
       "    </tr>\n",
       "    <tr>\n",
       "      <th>2</th>\n",
       "      <td>0</td>\n",
       "      <td>0.0</td>\n",
       "      <td>0.682246</td>\n",
       "      <td>0.564390</td>\n",
       "    </tr>\n",
       "    <tr>\n",
       "      <th>3</th>\n",
       "      <td>0</td>\n",
       "      <td>0.0</td>\n",
       "      <td>0.716674</td>\n",
       "      <td>0.407644</td>\n",
       "    </tr>\n",
       "    <tr>\n",
       "      <th>4</th>\n",
       "      <td>0</td>\n",
       "      <td>0.0</td>\n",
       "      <td>0.824511</td>\n",
       "      <td>0.300283</td>\n",
       "    </tr>\n",
       "    <tr>\n",
       "      <th>...</th>\n",
       "      <td>...</td>\n",
       "      <td>...</td>\n",
       "      <td>...</td>\n",
       "      <td>...</td>\n",
       "    </tr>\n",
       "    <tr>\n",
       "      <th>99995</th>\n",
       "      <td>999</td>\n",
       "      <td>200.0</td>\n",
       "      <td>0.901549</td>\n",
       "      <td>0.579420</td>\n",
       "    </tr>\n",
       "    <tr>\n",
       "      <th>99996</th>\n",
       "      <td>999</td>\n",
       "      <td>200.0</td>\n",
       "      <td>0.957527</td>\n",
       "      <td>0.539055</td>\n",
       "    </tr>\n",
       "    <tr>\n",
       "      <th>99997</th>\n",
       "      <td>999</td>\n",
       "      <td>200.0</td>\n",
       "      <td>1.036460</td>\n",
       "      <td>0.515615</td>\n",
       "    </tr>\n",
       "    <tr>\n",
       "      <th>99998</th>\n",
       "      <td>999</td>\n",
       "      <td>200.0</td>\n",
       "      <td>1.129212</td>\n",
       "      <td>0.510619</td>\n",
       "    </tr>\n",
       "    <tr>\n",
       "      <th>99999</th>\n",
       "      <td>999</td>\n",
       "      <td>200.0</td>\n",
       "      <td>1.223701</td>\n",
       "      <td>0.524988</td>\n",
       "    </tr>\n",
       "  </tbody>\n",
       "</table>\n",
       "<p>100000 rows × 4 columns</p>\n",
       "</div>"
      ],
      "text/plain": [
       "       system_id  time_step      prey  predator\n",
       "0              0        0.0  0.949917  1.040624\n",
       "1              0        0.0  0.740551  0.779542\n",
       "2              0        0.0  0.682246  0.564390\n",
       "3              0        0.0  0.716674  0.407644\n",
       "4              0        0.0  0.824511  0.300283\n",
       "...          ...        ...       ...       ...\n",
       "99995        999      200.0  0.901549  0.579420\n",
       "99996        999      200.0  0.957527  0.539055\n",
       "99997        999      200.0  1.036460  0.515615\n",
       "99998        999      200.0  1.129212  0.510619\n",
       "99999        999      200.0  1.223701  0.524988\n",
       "\n",
       "[100000 rows x 4 columns]"
      ]
     },
     "execution_count": 5,
     "metadata": {},
     "output_type": "execute_result"
    }
   ],
   "source": [
    "df_traj # Visualising data in dataframe format"
   ]
  },
  {
   "cell_type": "code",
   "execution_count": 6,
   "metadata": {},
   "outputs": [
    {
     "name": "stdout",
     "output_type": "stream",
     "text": [
      "8.080808080808081\n"
     ]
    }
   ],
   "source": [
    "time_step = df_traj['time_step'].to_numpy()\n",
    "\n",
    "print(time_step[4925])"
   ]
  },
  {
   "cell_type": "markdown",
   "metadata": {},
   "source": [
    "# Part 2 (a)"
   ]
  },
  {
   "cell_type": "markdown",
   "metadata": {},
   "source": [
    "Grouping prey and predator into arrays to determine the maximum value for scaling procedure."
   ]
  },
  {
   "cell_type": "code",
   "execution_count": 7,
   "metadata": {},
   "outputs": [],
   "source": [
    "prey_array = df_traj['prey'].to_numpy() # Converting to numpy array\n",
    "predator_array = df_traj['predator'].to_numpy()"
   ]
  },
  {
   "cell_type": "markdown",
   "metadata": {},
   "source": [
    "### 2.10 Scaling Dataset `lotka_volterra_data.h5`\n",
    "\n",
    "As we will see in the `Table` presented below, in the original dataset we have laues that vary significantly. To standardize the numeric range, we are going to use [quantiles]( https://en.wikipedia.org/wiki/Quantile). A quantile is a value that divides a dataset into equal-sized intervals, indicating the data points below which a given percentage if observations fall. From the project instructions it is adviced to apply a simple scaling:\n",
    "$$\n",
    "x_t' = \\frac{x_t}{\\alpha}\n",
    "$$\n",
    "where $\\alpha$ should be chosen based on the distribution of the dataset `lotka_volterra_data.h5`.\n",
    "\n",
    "In our particular case we want most of our dataset to be in range $[0,10]$. This is coded in the [`preprocessor.py`](https://github.com/MatteoMancini01/M2_Cw/blob/main/src/preprocessor.py) file, which appropriate docstrings.\n",
    "\n"
   ]
  },
  {
   "cell_type": "markdown",
   "metadata": {},
   "source": [
    "#### `numpy.quantile()`\n",
    "\n",
    "For scaling our dataset we want to use [`numpy.quantile()`](https://numpy.org/doc/2.1/reference/generated/numpy.quantile.html). The `numpy.quantile()` function calculates the quantiles of a given NumPy array. Quantiles are cut points that devide the data into intercals with equal probability. Thus `numpy.quantile()`can be used to scale our dataset dynamically, without having to worry about choosing the appropriate value for $\\alpha$."
   ]
  },
  {
   "cell_type": "code",
   "execution_count": 8,
   "metadata": {},
   "outputs": [],
   "source": [
    "# Import class Preprocessor from src/preprocessor.py\n",
    "from src.preprocessor import Preprocessor\n",
    "\n",
    "# Set scaling_operator to function \n",
    "scaling_operator = Preprocessor.scaling_operator"
   ]
  },
  {
   "cell_type": "markdown",
   "metadata": {},
   "source": [
    "Scaling data"
   ]
  },
  {
   "cell_type": "code",
   "execution_count": 9,
   "metadata": {},
   "outputs": [
    {
     "name": "stdout",
     "output_type": "stream",
     "text": [
      "Scaling factor: 0.25283724\n"
     ]
    }
   ],
   "source": [
    "trajectories_scaled, scaling_factor = scaling_operator(trajectories, 0.9, 10)\n",
    "print('Scaling factor:', scaling_factor)"
   ]
  },
  {
   "cell_type": "markdown",
   "metadata": {},
   "source": [
    "Collecting scaled data into `pandas.DataFrame` format, in particular, we want to construct a $100000\\times 4$ table, (number of rows $= 1000 \\times 100$). With four colums, of which three are `time_step`, `prey` and `predator`, but with an additional one `system_id` (this separates the $1000$ different systems), which will be later used to convert our timeseries data into string format."
   ]
  },
  {
   "cell_type": "code",
   "execution_count": 10,
   "metadata": {},
   "outputs": [],
   "source": [
    "num_systems_scaled, num_time_steps_scaled, num_variables_scaled = trajectories_scaled.shape\n",
    "\n",
    "# Create a DataFrame\n",
    "df_traj_scaled = pd.DataFrame({\n",
    "    \"system_id\": np.repeat(np.arange(num_systems_scaled), num_time_steps_scaled),  # Repeats 0-999, each 100 times\n",
    "    \"time_step\": np.repeat(time_points[np.arange(num_time_steps_scaled)], num_systems_scaled),  # Cycles 0-200 (array.shape = (100,)) for each system\n",
    "    \"prey\": trajectories_scaled[:, :, 0].flatten(),  # Flatten prey values\n",
    "    \"predator\": trajectories_scaled[:, :, 1].flatten()  # Flatten predator values\n",
    "})"
   ]
  },
  {
   "cell_type": "markdown",
   "metadata": {},
   "source": [
    "Visualising `df_traj_scaled`."
   ]
  },
  {
   "cell_type": "code",
   "execution_count": 11,
   "metadata": {},
   "outputs": [
    {
     "data": {
      "text/html": [
       "<div>\n",
       "<style scoped>\n",
       "    .dataframe tbody tr th:only-of-type {\n",
       "        vertical-align: middle;\n",
       "    }\n",
       "\n",
       "    .dataframe tbody tr th {\n",
       "        vertical-align: top;\n",
       "    }\n",
       "\n",
       "    .dataframe thead th {\n",
       "        text-align: right;\n",
       "    }\n",
       "</style>\n",
       "<table border=\"1\" class=\"dataframe\">\n",
       "  <thead>\n",
       "    <tr style=\"text-align: right;\">\n",
       "      <th></th>\n",
       "      <th>system_id</th>\n",
       "      <th>time_step</th>\n",
       "      <th>prey</th>\n",
       "      <th>predator</th>\n",
       "    </tr>\n",
       "  </thead>\n",
       "  <tbody>\n",
       "    <tr>\n",
       "      <th>0</th>\n",
       "      <td>0</td>\n",
       "      <td>0.0</td>\n",
       "      <td>3.757031</td>\n",
       "      <td>4.115786</td>\n",
       "    </tr>\n",
       "    <tr>\n",
       "      <th>1</th>\n",
       "      <td>0</td>\n",
       "      <td>0.0</td>\n",
       "      <td>2.928965</td>\n",
       "      <td>3.083177</td>\n",
       "    </tr>\n",
       "    <tr>\n",
       "      <th>2</th>\n",
       "      <td>0</td>\n",
       "      <td>0.0</td>\n",
       "      <td>2.698359</td>\n",
       "      <td>2.232228</td>\n",
       "    </tr>\n",
       "    <tr>\n",
       "      <th>3</th>\n",
       "      <td>0</td>\n",
       "      <td>0.0</td>\n",
       "      <td>2.834528</td>\n",
       "      <td>1.612280</td>\n",
       "    </tr>\n",
       "    <tr>\n",
       "      <th>4</th>\n",
       "      <td>0</td>\n",
       "      <td>0.0</td>\n",
       "      <td>3.261036</td>\n",
       "      <td>1.187654</td>\n",
       "    </tr>\n",
       "    <tr>\n",
       "      <th>...</th>\n",
       "      <td>...</td>\n",
       "      <td>...</td>\n",
       "      <td>...</td>\n",
       "      <td>...</td>\n",
       "    </tr>\n",
       "    <tr>\n",
       "      <th>99995</th>\n",
       "      <td>999</td>\n",
       "      <td>200.0</td>\n",
       "      <td>3.565728</td>\n",
       "      <td>2.291671</td>\n",
       "    </tr>\n",
       "    <tr>\n",
       "      <th>99996</th>\n",
       "      <td>999</td>\n",
       "      <td>200.0</td>\n",
       "      <td>3.787127</td>\n",
       "      <td>2.132025</td>\n",
       "    </tr>\n",
       "    <tr>\n",
       "      <th>99997</th>\n",
       "      <td>999</td>\n",
       "      <td>200.0</td>\n",
       "      <td>4.099317</td>\n",
       "      <td>2.039314</td>\n",
       "    </tr>\n",
       "    <tr>\n",
       "      <th>99998</th>\n",
       "      <td>999</td>\n",
       "      <td>200.0</td>\n",
       "      <td>4.466160</td>\n",
       "      <td>2.019556</td>\n",
       "    </tr>\n",
       "    <tr>\n",
       "      <th>99999</th>\n",
       "      <td>999</td>\n",
       "      <td>200.0</td>\n",
       "      <td>4.839878</td>\n",
       "      <td>2.076386</td>\n",
       "    </tr>\n",
       "  </tbody>\n",
       "</table>\n",
       "<p>100000 rows × 4 columns</p>\n",
       "</div>"
      ],
      "text/plain": [
       "       system_id  time_step      prey  predator\n",
       "0              0        0.0  3.757031  4.115786\n",
       "1              0        0.0  2.928965  3.083177\n",
       "2              0        0.0  2.698359  2.232228\n",
       "3              0        0.0  2.834528  1.612280\n",
       "4              0        0.0  3.261036  1.187654\n",
       "...          ...        ...       ...       ...\n",
       "99995        999      200.0  3.565728  2.291671\n",
       "99996        999      200.0  3.787127  2.132025\n",
       "99997        999      200.0  4.099317  2.039314\n",
       "99998        999      200.0  4.466160  2.019556\n",
       "99999        999      200.0  4.839878  2.076386\n",
       "\n",
       "[100000 rows x 4 columns]"
      ]
     },
     "execution_count": 11,
     "metadata": {},
     "output_type": "execute_result"
    }
   ],
   "source": [
    "df_traj_scaled"
   ]
  },
  {
   "cell_type": "markdown",
   "metadata": {},
   "source": [
    "Converting `prey` and `predator` columns into array using [`pandas.DataFrame.to_numpy`](https://pandas.pydata.org/docs/reference/api/pandas.DataFrame.to_numpy.html)"
   ]
  },
  {
   "cell_type": "code",
   "execution_count": 12,
   "metadata": {},
   "outputs": [],
   "source": [
    "prey_array_scaled = df_traj_scaled['prey'].to_numpy() # Converting to numpy array\n",
    "predator_array_scaled = df_traj_scaled['predator'].to_numpy()"
   ]
  },
  {
   "cell_type": "markdown",
   "metadata": {},
   "source": [
    "Defining a function that calculates the percentage of values in an array that fall outside a given range. (This seem tedious, as we set a value for quantile in the function `scaling_operator`, e.g. $q = 0.9$, means that only $10%$ of the values will be out of our custom range. But this will be used to measure what percentage of datapoints in the original dataset is outside a specific range.)"
   ]
  },
  {
   "cell_type": "code",
   "execution_count": 13,
   "metadata": {},
   "outputs": [],
   "source": [
    "def scaling_measure(arr, min_val, max_val):\n",
    "    \n",
    "    \"\"\"\n",
    "    Calculates the percentage of values in an array that fall outside a given range.\n",
    "\n",
    "    Parameters:\n",
    "    -----------\n",
    "    arr : array-like\n",
    "        The input numerical data.\n",
    "    min_val : float\n",
    "        The minimum acceptable value.\n",
    "    max_val : float\n",
    "        The maximum acceptable value.\n",
    "\n",
    "    Returns:\n",
    "    --------\n",
    "    str\n",
    "        The percentage of values outside the range, formatted as a string.\n",
    "    \"\"\"\n",
    "\n",
    "    # Count values about the max range\n",
    "    outside_count = np.sum((arr < min_val)|(arr > max_val))\n",
    "\n",
    "    # Calculating the pergentage of values outside max range\n",
    "    percentage_outside = (outside_count/arr.size)*100\n",
    "\n",
    "    return f'{percentage_outside:.2f}%'"
   ]
  },
  {
   "cell_type": "markdown",
   "metadata": {},
   "source": [
    "Collecting scaling information into a Table using `pandas.DataFrame`."
   ]
  },
  {
   "cell_type": "code",
   "execution_count": 14,
   "metadata": {},
   "outputs": [],
   "source": [
    "min_val = 0\n",
    "max_val = 1\n",
    "Table_1 = pd.DataFrame({\n",
    "\n",
    "    'Pray': [max(prey_array), np.mean(prey_array), min(prey_array), scaling_measure(prey_array, min_val, max_val)],\n",
    "    'Pray after scaling': [max(prey_array_scaled), np.mean(prey_array_scaled), min(prey_array_scaled), scaling_measure(prey_array_scaled, min_val, max_val)],\n",
    "    'Predator': [max(predator_array), np.mean(predator_array), min(predator_array), scaling_measure(predator_array, min_val, max_val)],\n",
    "    'Predator after scaling': [max(predator_array_scaled), np.mean(predator_array_scaled), min(predator_array_scaled), scaling_measure(predator_array_scaled, min_val, max_val)],\n",
    "    \n",
    "})\n",
    "Table_1.index = [\"Maximim Value\", \"Mean Value\", \"Minimum Value\", f\"Values outside the range {min_val}-{max_val}\"] # Adding index for each row"
   ]
  },
  {
   "cell_type": "markdown",
   "metadata": {},
   "source": [
    " From the table below, we can observe, scaling was successful. The reason why we want to test how many data points are outside the range $[0,1]$, is due to the fact that a lot of data points in the original dataset (pre-scaling) are very small, many of order $10^{-3}$ (and smaller order $10^{-4}$), which may affect the tokenisation process."
   ]
  },
  {
   "cell_type": "code",
   "execution_count": 15,
   "metadata": {},
   "outputs": [
    {
     "data": {
      "text/html": [
       "<div>\n",
       "<style scoped>\n",
       "    .dataframe tbody tr th:only-of-type {\n",
       "        vertical-align: middle;\n",
       "    }\n",
       "\n",
       "    .dataframe tbody tr th {\n",
       "        vertical-align: top;\n",
       "    }\n",
       "\n",
       "    .dataframe thead th {\n",
       "        text-align: right;\n",
       "    }\n",
       "</style>\n",
       "<table border=\"1\" class=\"dataframe\">\n",
       "  <thead>\n",
       "    <tr style=\"text-align: right;\">\n",
       "      <th></th>\n",
       "      <th>Pray</th>\n",
       "      <th>Pray after scaling</th>\n",
       "      <th>Predator</th>\n",
       "      <th>Predator after scaling</th>\n",
       "    </tr>\n",
       "  </thead>\n",
       "  <tbody>\n",
       "    <tr>\n",
       "      <th>Maximim Value</th>\n",
       "      <td>13.740113</td>\n",
       "      <td>54.343708</td>\n",
       "      <td>4.76849</td>\n",
       "      <td>18.859921</td>\n",
       "    </tr>\n",
       "    <tr>\n",
       "      <th>Mean Value</th>\n",
       "      <td>1.698114</td>\n",
       "      <td>6.716232</td>\n",
       "      <td>0.569606</td>\n",
       "      <td>2.252856</td>\n",
       "    </tr>\n",
       "    <tr>\n",
       "      <th>Minimum Value</th>\n",
       "      <td>0.002077</td>\n",
       "      <td>0.008216</td>\n",
       "      <td>0.000037</td>\n",
       "      <td>0.000148</td>\n",
       "    </tr>\n",
       "    <tr>\n",
       "      <th>Values outside the range 0-1</th>\n",
       "      <td>63.11%</td>\n",
       "      <td>93.83%</td>\n",
       "      <td>12.21%</td>\n",
       "      <td>77.33%</td>\n",
       "    </tr>\n",
       "  </tbody>\n",
       "</table>\n",
       "</div>"
      ],
      "text/plain": [
       "                                   Pray Pray after scaling  Predator  \\\n",
       "Maximim Value                 13.740113          54.343708   4.76849   \n",
       "Mean Value                     1.698114           6.716232  0.569606   \n",
       "Minimum Value                  0.002077           0.008216  0.000037   \n",
       "Values outside the range 0-1     63.11%             93.83%    12.21%   \n",
       "\n",
       "                             Predator after scaling  \n",
       "Maximim Value                             18.859921  \n",
       "Mean Value                                 2.252856  \n",
       "Minimum Value                              0.000148  \n",
       "Values outside the range 0-1                 77.33%  "
      ]
     },
     "execution_count": 15,
     "metadata": {},
     "output_type": "execute_result"
    }
   ],
   "source": [
    "Table_1"
   ]
  },
  {
   "cell_type": "markdown",
   "metadata": {},
   "source": [
    "Looking at the last row, we can see that we have a major improvement for both `prey` and `predator` categories, the percentage of values outside the range $[0,1]$ has increased in `prey` by ~ $30\\%$ and `predator` by ~ $65\\%$. Thus, scaling was successful. Now we can proceed with the next step, i.e. converting the scaled dataset to strings, for compatibility with [Qwen2.5]( https://github.com/QwenLM/Qwen2.5)."
   ]
  },
  {
   "cell_type": "markdown",
   "metadata": {},
   "source": [
    "### 2.11 Loading Qwen2.5\n",
    "\n",
    "Below a short demonstration on how to use `load_qwen()` from `src.qwen`."
   ]
  },
  {
   "cell_type": "code",
   "execution_count": 16,
   "metadata": {},
   "outputs": [
    {
     "name": "stderr",
     "output_type": "stream",
     "text": [
      "/root/Document/Term2/M2/M2_Cw/m2_venv/lib/python3.12/site-packages/tqdm/auto.py:21: TqdmWarning: IProgress not found. Please update jupyter and ipywidgets. See https://ipywidgets.readthedocs.io/en/stable/user_install.html\n",
      "  from .autonotebook import tqdm as notebook_tqdm\n",
      "2025-03-15 12:06:07.142305: E external/local_xla/xla/stream_executor/cuda/cuda_fft.cc:477] Unable to register cuFFT factory: Attempting to register factory for plugin cuFFT when one has already been registered\n",
      "WARNING: All log messages before absl::InitializeLog() is called are written to STDERR\n",
      "E0000 00:00:1742040367.225622   95182 cuda_dnn.cc:8310] Unable to register cuDNN factory: Attempting to register factory for plugin cuDNN when one has already been registered\n",
      "E0000 00:00:1742040367.249479   95182 cuda_blas.cc:1418] Unable to register cuBLAS factory: Attempting to register factory for plugin cuBLAS when one has already been registered\n",
      "2025-03-15 12:06:07.458010: I tensorflow/core/platform/cpu_feature_guard.cc:210] This TensorFlow binary is optimized to use available CPU instructions in performance-critical operations.\n",
      "To enable the following instructions: AVX2 FMA, in other operations, rebuild TensorFlow with the appropriate compiler flags.\n",
      "Sliding Window Attention is enabled but not implemented for `sdpa`; unexpected results may be encountered.\n"
     ]
    }
   ],
   "source": [
    "from src.qwen import load_qwen # Import load_qwen\n",
    "model, tokenizer = load_qwen() # set model = model and tokeinzer = tokenizer"
   ]
  },
  {
   "cell_type": "markdown",
   "metadata": {},
   "source": [
    "Trying with examples provided at the end of project instructions, see [LLMTIME Preprocessing Scheme](https://github.com/MatteoMancini01/M2_Cw/blob/main/instructions/main.pdf)."
   ]
  },
  {
   "cell_type": "code",
   "execution_count": 17,
   "metadata": {},
   "outputs": [
    {
     "name": "stdout",
     "output_type": "stream",
     "text": [
      "[16, 13, 17, 18]\n",
      "\n",
      "[16, 659, 220, 17, 220, 18]\n"
     ]
    }
   ],
   "source": [
    "print(tokenizer(\"1.23\", return_tensors=\"pt\")[\"input_ids\"].tolist()[0])\n",
    "print('')\n",
    "print(tokenizer(\"1 . 2 3\", return_tensors=\"pt\")[\"input_ids\"].tolist()[0])"
   ]
  },
  {
   "cell_type": "markdown",
   "metadata": {},
   "source": [
    "Trying to tokenise $[0.25,1.50;0.27,1.47;0.31,1.42]$"
   ]
  },
  {
   "cell_type": "code",
   "execution_count": 18,
   "metadata": {},
   "outputs": [
    {
     "name": "stdout",
     "output_type": "stream",
     "text": [
      "[15, 13, 17, 20, 11, 16, 13, 20, 15, 26, 15, 13, 17, 22, 11, 16, 13, 19, 22, 26, 15, 13, 18, 16, 11, 16, 13, 19, 17]\n"
     ]
    }
   ],
   "source": [
    "print(tokenizer(\"0.25,1.50;0.27,1.47;0.31,1.42\", return_tensors='pt')[\"input_ids\"].tolist()[0])"
   ]
  },
  {
   "cell_type": "markdown",
   "metadata": {},
   "source": [
    "Example of how `load_qwen()` works!"
   ]
  },
  {
   "cell_type": "code",
   "execution_count": 19,
   "metadata": {},
   "outputs": [
    {
     "name": "stderr",
     "output_type": "stream",
     "text": [
      "The attention mask is not set and cannot be inferred from input because pad token is same as eos token. As a consequence, you may observe unexpected behavior. Please pass your input's `attention_mask` to obtain reliable results.\n"
     ]
    }
   ],
   "source": [
    "text = 'Hello, world' # Define input text\n",
    "input_ids = tokenizer(text, return_tensors='pt').input_ids # Tokenize text \n",
    "output = model.generate(input_ids, max_length = 50) # Generate output"
   ]
  },
  {
   "cell_type": "markdown",
   "metadata": {},
   "source": [
    "From the above code line 3 `output`, the variable `max_length` determines how many more words will the model predict when inputing text, e.g. `text = Hello, world`, as we can see from the below output."
   ]
  },
  {
   "cell_type": "code",
   "execution_count": 20,
   "metadata": {},
   "outputs": [
    {
     "data": {
      "text/plain": [
       "tensor([[ 9707,    11,  1879,  2219,  1986,   374,   264,  4285, 23811,  1879,\n",
       "          2025,   304, 13027,    13,  1084, 23473,   330,  9707,    11,  1879,\n",
       "          8958,   311,   279,  2339,   382, 73594, 12669,   198,  1350,   445,\n",
       "          9707,    11,  1879, 22988, 13874, 19324,  4498,   498,  1598,   419,\n",
       "          2038,    11,   432,   686,  2550,  1447, 13874,  3989,  9707,    11]])"
      ]
     },
     "execution_count": 20,
     "metadata": {},
     "output_type": "execute_result"
    }
   ],
   "source": [
    "output"
   ]
  },
  {
   "cell_type": "markdown",
   "metadata": {},
   "source": [
    "From the above tensor we recognise that the first 3 tokens are related to our text, the rest of the tokens is predicted text determined from the model, as we will see below when decoding `output`."
   ]
  },
  {
   "cell_type": "code",
   "execution_count": 21,
   "metadata": {},
   "outputs": [
    {
     "name": "stdout",
     "output_type": "stream",
     "text": [
      "Hello, world!\n",
      "\n",
      "This is a simple hello world program in Python. It prints \"Hello, world!\" to the console.\n",
      "\n",
      "```python\n",
      "print(\"Hello, world!\")\n",
      "```\n",
      "\n",
      "When you run this code, it will output:\n",
      "\n",
      "```\n",
      "Hello,\n"
     ]
    }
   ],
   "source": [
    "print(tokenizer.decode(output[0], skip_special_tokens=True)) # Decoding output"
   ]
  },
  {
   "cell_type": "markdown",
   "metadata": {},
   "source": [
    "### 2.12 Converting Scaled Dataset into Strings\n",
    "\n",
    "We now have seen how tokenisation for text works! There is a small issue, Qwen2.5 is only designed to convert text, i.e. strings in Python, to tokens, while our dataset is a timeseries composed of 2 variables prey and predator over a time series of size 100, this is repated for a 1000 samples. Thus, before we proceed with tokenisation, we require to convert the time series data into sets of strings. To do so we are going to define a fucntion `array_to_string(data)`, and a function to convert string to array `sring_to_array(formatted_string)` (both functions are in [preprocessor.py](https://github.com/MatteoMancini01/M2_Cw/blob/main/src/preprocessor.py))."
   ]
  },
  {
   "cell_type": "markdown",
   "metadata": {},
   "source": [
    "⚠ Note: The function `array_to_string` is specifically designed for the dataset `lotka_volterra_data.h5`, in particular after converting `trajectories` into a `panda.DataFrame` format, with columns `system_id` (labeling each system from 0 to 999), columns `prey` and `predator`, each  displaying 100 data points for every `system_id`."
   ]
  },
  {
   "cell_type": "code",
   "execution_count": 22,
   "metadata": {},
   "outputs": [],
   "source": [
    "from src.preprocessor import Preprocessor\n",
    "\n",
    "array_to_string = Preprocessor.array_to_string # Importing array_to_string(data) to convert timeseries to string\n",
    "string_to_array = Preprocessor.string_to_array # Importing string_to_array(formatted_string) to convert strings back to arrays\n",
    "\n",
    "traject_scaled_string = array_to_string(df_traj_scaled) # Converting df_traj_scaled into string format"
   ]
  },
  {
   "cell_type": "markdown",
   "metadata": {},
   "source": [
    "Checking result post-conversion"
   ]
  },
  {
   "cell_type": "code",
   "execution_count": 23,
   "metadata": {},
   "outputs": [
    {
     "name": "stdout",
     "output_type": "stream",
     "text": [
      "system_id\n",
      "0      3.7570314,4.115786;2.9289646,3.0831769;2.69835...\n",
      "1      3.8422916,3.976525;4.266382,3.2503378;4.986718...\n",
      "2      4.2447176,4.401468;3.3779166,3.5601249;3.03805...\n",
      "3      4.1148176,4.5674887;2.6275814,4.4058175;1.7460...\n",
      "4      3.275598,3.167274;3.533418,2.2473524;4.0886607...\n",
      "                             ...                        \n",
      "995    3.918201,4.624609;2.1393397,3.2536037;1.521137...\n",
      "996    3.594898,4.6532717;2.2493894,3.7967243;1.68079...\n",
      "997    4.4646792,4.432619;4.054759,4.030011;3.8997226...\n",
      "998    4.475788,4.0170417;3.1674376,3.1674619;2.56437...\n",
      "999    4.0352407,4.488609;3.0280378,4.1001153;2.48077...\n",
      "Length: 1000, dtype: object\n"
     ]
    }
   ],
   "source": [
    "print(traject_scaled_string) # Print output"
   ]
  },
  {
   "cell_type": "markdown",
   "metadata": {},
   "source": [
    "We also want to test the function `string_to_array`, this is done below for the first `system_id` string data format, i.e. `system_id` $ = 0$."
   ]
  },
  {
   "cell_type": "code",
   "execution_count": 24,
   "metadata": {},
   "outputs": [
    {
     "name": "stdout",
     "output_type": "stream",
     "text": [
      "[[ 3.7570314   4.115786  ]\n",
      " [ 2.9289646   3.0831769 ]\n",
      " [ 2.698359    2.232228  ]\n",
      " [ 2.834528    1.6122797 ]\n",
      " [ 3.261036    1.1876544 ]\n",
      " [ 3.9731696   0.9090103 ]\n",
      " [ 4.9950223   0.7362934 ]\n",
      " [ 6.3499713   0.6416597 ]\n",
      " [ 8.033252    0.61052966]\n",
      " [ 9.978284    0.6402782 ]\n",
      " [12.027031    0.74106705]\n",
      " [13.914932    0.9378812 ]\n",
      " [15.283247    1.2709625 ]\n",
      " [15.732348    1.7848765 ]\n",
      " [14.932756    2.4919257 ]\n",
      " [12.876417    3.2815378 ]\n",
      " [10.089222    3.8815145 ]\n",
      " [ 7.451006    4.014958  ]\n",
      " [ 5.5736156   3.6663675 ]\n",
      " [ 4.519748    3.0661838 ]\n",
      " [ 4.0797853   2.4484437 ]\n",
      " [ 4.0676417   1.9291508 ]\n",
      " [ 4.384644    1.5358958 ]\n",
      " [ 4.9906063   1.2594512 ]\n",
      " [ 5.869442    1.081379  ]\n",
      " [ 7.00247     0.98556626]\n",
      " [ 8.343905    0.9630018 ]\n",
      " [ 9.800556    1.0129801 ]\n",
      " [11.211844    1.1445497 ]\n",
      " [12.355572    1.3731911 ]\n",
      " [12.978617    1.7145051 ]\n",
      " [12.864242    2.164892  ]\n",
      " [11.940796    2.671792  ]\n",
      " [10.378936    3.1176598 ]\n",
      " [ 8.59046     3.3508794 ]\n",
      " [ 7.0140243   3.2962737 ]\n",
      " [ 5.8966465   3.0044987 ]\n",
      " [ 5.2652497   2.6000662 ]\n",
      " [ 5.044285    2.192969  ]\n",
      " [ 5.1540504   1.8450811 ]\n",
      " [ 5.5394106   1.5767686 ]\n",
      " [ 6.165034    1.3890674 ]\n",
      " [ 6.997132    1.2767583 ]\n",
      " [ 7.9853234   1.2352158 ]\n",
      " [ 9.0467615   1.2632561 ]\n",
      " [10.065218    1.3630885 ]\n",
      " [10.892034    1.539059  ]\n",
      " [11.365654    1.7920331 ]\n",
      " [11.35982     2.108443  ]\n",
      " [10.829095    2.4510555 ]\n",
      " [ 9.869668    2.750031  ]\n",
      " [ 8.698002    2.9269316 ]\n",
      " [ 7.5687656   2.9339588 ]\n",
      " [ 6.673109    2.7813456 ]\n",
      " [ 6.0946956   2.5265617 ]\n",
      " [ 5.8340306   2.23849   ]\n",
      " [ 5.855608    1.9692706 ]\n",
      " [ 6.118881    1.7475523 ]\n",
      " [ 6.585979    1.5854172 ]\n",
      " [ 7.216646    1.4846189 ]\n",
      " [ 7.9602866   1.4448124 ]\n",
      " [ 8.746588    1.4651805 ]\n",
      " [ 9.4837885   1.5457689 ]\n",
      " [10.064862    1.686082  ]\n",
      " [10.389011    1.879139  ]\n",
      " [10.378271    2.1102016 ]\n",
      " [10.015198    2.349079  ]\n",
      " [ 9.366484    2.551186  ]\n",
      " [ 8.562867    2.6719382 ]\n",
      " [ 7.7604117   2.6836882 ]\n",
      " [ 7.0902915   2.5893192 ]\n",
      " [ 6.628651    2.419172  ]\n",
      " [ 6.3997216   2.2147698 ]\n",
      " [ 6.3946714   2.013153  ]\n",
      " [ 6.5887275   1.8397428 ]\n",
      " [ 6.949876    1.7085366 ]\n",
      " [ 7.4398227   1.6256987 ]\n",
      " [ 8.010379    1.5931308 ]\n",
      " [ 8.601621    1.6109995 ]\n",
      " [ 9.140892    1.6782801 ]\n",
      " [ 9.551921    1.7912753 ]\n",
      " [ 9.765009    1.9420414 ]\n",
      " [ 9.735253    2.115139  ]\n",
      " [ 9.4618635   2.2864356 ]\n",
      " [ 8.993828    2.4261956 ]\n",
      " [ 8.418015    2.5071807 ]\n",
      " [ 7.8375545   2.5133095 ]\n",
      " [ 7.3433185   2.446743  ]\n",
      " [ 6.9946713   2.32606   ]\n",
      " [ 6.8174224   2.1781068 ]\n",
      " [ 6.8119473   2.028571  ]\n",
      " [ 6.962807    1.8969814 ]\n",
      " [ 7.244267    1.7953053 ]\n",
      " [ 7.624143    1.7310194 ]\n",
      " [ 8.060908    1.7070326 ]\n",
      " [ 8.504181    1.723896  ]\n",
      " [ 8.898368    1.7798775 ]\n",
      " [ 9.187201    1.8706486 ]\n",
      " [ 9.323835    1.987615  ]\n",
      " [ 9.283123    2.1170547 ]]\n"
     ]
    }
   ],
   "source": [
    "print(string_to_array(traject_scaled_string[0]))"
   ]
  },
  {
   "cell_type": "markdown",
   "metadata": {},
   "source": [
    "As we can observe from the above output, we successfully converted string back to array."
   ]
  },
  {
   "cell_type": "markdown",
   "metadata": {},
   "source": [
    "### 2.13 Tokenisation \n",
    "\n",
    "We provided few basic examples on how to use `load_qwen()` in section 2.11, with some text and numbers (string form). We now want to proceed and tokenise our data, to achieve this, we designed a function for our particular needs that uses `model, tokenizer = load_qwen()`.\n"
   ]
  },
  {
   "cell_type": "code",
   "execution_count": 25,
   "metadata": {},
   "outputs": [],
   "source": [
    "from src.qwen import tokenize_time_series\n"
   ]
  },
  {
   "cell_type": "code",
   "execution_count": 26,
   "metadata": {},
   "outputs": [],
   "source": [
    "tokenised_data = tokenize_time_series(traject_scaled_string)"
   ]
  },
  {
   "cell_type": "markdown",
   "metadata": {},
   "source": [
    "Visualising data before tokenisation:"
   ]
  },
  {
   "cell_type": "code",
   "execution_count": 39,
   "metadata": {},
   "outputs": [
    {
     "data": {
      "text/plain": [
       "system_id\n",
       "0      3.7570314,4.115786;2.9289646,3.0831769;2.69835...\n",
       "1      3.8422916,3.976525;4.266382,3.2503378;4.986718...\n",
       "2      4.2447176,4.401468;3.3779166,3.5601249;3.03805...\n",
       "3      4.1148176,4.5674887;2.6275814,4.4058175;1.7460...\n",
       "4      3.275598,3.167274;3.533418,2.2473524;4.0886607...\n",
       "                             ...                        \n",
       "995    3.918201,4.624609;2.1393397,3.2536037;1.521137...\n",
       "996    3.594898,4.6532717;2.2493894,3.7967243;1.68079...\n",
       "997    4.4646792,4.432619;4.054759,4.030011;3.8997226...\n",
       "998    4.475788,4.0170417;3.1674376,3.1674619;2.56437...\n",
       "999    4.0352407,4.488609;3.0280378,4.1001153;2.48077...\n",
       "Length: 1000, dtype: object"
      ]
     },
     "execution_count": 39,
     "metadata": {},
     "output_type": "execute_result"
    }
   ],
   "source": [
    "traject_scaled_string"
   ]
  },
  {
   "cell_type": "markdown",
   "metadata": {},
   "source": [
    "After tokenisation:"
   ]
  },
  {
   "cell_type": "code",
   "execution_count": 27,
   "metadata": {},
   "outputs": [
    {
     "data": {
      "text/plain": [
       "system_id\n",
       "0      [input_ids, attention_mask]\n",
       "1      [input_ids, attention_mask]\n",
       "2      [input_ids, attention_mask]\n",
       "3      [input_ids, attention_mask]\n",
       "4      [input_ids, attention_mask]\n",
       "                  ...             \n",
       "995    [input_ids, attention_mask]\n",
       "996    [input_ids, attention_mask]\n",
       "997    [input_ids, attention_mask]\n",
       "998    [input_ids, attention_mask]\n",
       "999    [input_ids, attention_mask]\n",
       "Length: 1000, dtype: object"
      ]
     },
     "execution_count": 27,
     "metadata": {},
     "output_type": "execute_result"
    }
   ],
   "source": [
    "tokenised_data"
   ]
  },
  {
   "cell_type": "markdown",
   "metadata": {},
   "source": [
    "Clsoer look at two examples:"
   ]
  },
  {
   "cell_type": "code",
   "execution_count": 43,
   "metadata": {},
   "outputs": [
    {
     "name": "stdout",
     "output_type": "stream",
     "text": [
      "Two examples of tokens from tokenised_data:\n",
      "\n",
      "Preprocessed data:\n",
      "4.1148176,4.5674887;2.6275814,4.4058175;1.7460897,3.9027684;1.2831641,3.2811728;1.0638798,2.682386;0.984722,2.1671355;1.0008674,1.7468183;1.0973107,1.4147936;1.2760373,1.1590365;1.5503457,0.9673673;1.9425601,0.8293;2.4818568,0.73716146;3.200081,0.68669236;4.1233573,0.67780405;5.256911,0.7159537;6.561579,0.81451684;7.924198,0.9982614;9.129895,1.3068261;9.859524,1.7921007;9.748706,2.4942725;8.56405,3.3738594;6.5229297,4.2074757;4.3476043,4.6512256;2.7189922,4.5382977;1.7658302,4.0314283;1.271206,3.3866417;1.0345033,2.7637167;0.9446259,2.2259717;0.9511616,1.7870439;1.0363959,1.4404546;1.2006862,1.1733989;1.4562578,0.9726263;1.8251879,0.82680446;2.336653,0.72754854;3.0239303,0.66978234;3.9170804,0.6524396;5.029446,0.67964417;6.335076,0.76294285;7.738619,0.92477435;9.045132,1.2025427;9.947493,1.6488174;10.061644,2.3158267;9.090996,3.1920273;7.1202655,4.0990167;4.8138604,4.6784763;2.9853754,4.6766305;1.890149,4.2113376;1.3143833,3.5627358;1.0338862,2.9131021;0.9175684,2.3438995;0.903611,1.8761687;0.96886516,1.5050375;1.1102291,1.2179024;1.3375237,1.000789;1.6705511,0.8414446;2.1374807,0.7303067;2.7721808,0.6611447;3.6086388,0.631478;4.669473,0.64357823;5.9459524,0.70633876;7.369291,0.83844465;8.777425,1.0727916;9.891749,1.4595819;10.333098,2.0580559;9.727024,2.8949146;7.977924,3.858685;5.60047,4.615962;3.4891891,4.820335;2.1342533,4.4640484;1.414065,3.824463;1.0608622,3.1416144;0.90412676,2.528269;0.8613454,2.0188947;0.90048206,1.6118547;1.0130699,1.2952169;1.2050569,1.05422;1.4933053,0.8752608;1.9036822,0.7474268;2.469252,0.66301525;3.2264507,0.6178618;4.206365,0.6120618;5.418326,0.65141636;6.823994,0.7500955;8.303829,0.93485576;9.625001,1.249934;10.438364,1.7551632;10.320048,2.5080585;8.998362,3.4731424;6.708759,4.4019356;4.30702,4.8834896;2.589392,4.728503;1.6298206,4.1555147;1.1490269,3.4553945;0.92421615,2.792965;0.83997613,2.2292378;0.8461216,1.7737821;0.9253658,1.4166914;1.0782889,1.1427349;1.3173417,0.9369949;1.6646945,0.7869297\n",
      "\n",
      "After tokenisation:\n",
      "[19, 13, 16, 16, 19, 23, 16, 22, 21, 11, 19, 13, 20, 21, 22, 19, 23, 23, 22, 26, 17, 13, 21, 17, 22, 20, 23, 16, 19, 11, 19, 13, 19, 15, 20, 23, 16, 22, 20, 26, 16, 13, 22, 19, 21, 15, 23, 24, 22, 11, 18, 13, 24, 15, 17, 22, 21, 23, 19, 26, 16, 13, 17, 23, 18, 16, 21, 19, 16, 11, 18, 13, 17, 23, 16, 16, 22, 17, 23, 26, 16, 13, 15, 21, 18, 23, 22, 24, 23, 11, 17, 13, 21, 23, 17, 18, 23, 21, 26, 15, 13, 24, 23, 19, 22, 17, 17, 11, 17, 13, 16, 21, 22, 16, 18, 20, 20, 26, 16, 13, 15, 15, 15, 23, 21, 22, 19, 11, 16, 13, 22, 19, 21, 23, 16, 23, 18, 26, 16, 13, 15, 24, 22, 18, 16, 15, 22, 11, 16, 13, 19, 16, 19, 22, 24, 18, 21, 26, 16, 13, 17, 22, 21, 15, 18, 22, 18, 11, 16, 13, 16, 20, 24, 15, 18, 21, 20, 26, 16, 13, 20, 20, 15, 18, 19, 20, 22, 11, 15, 13, 24, 21, 22, 18, 21, 22, 18, 26, 16, 13, 24, 19, 17, 20, 21, 15, 16, 11, 15, 13, 23, 17, 24, 18, 26, 17, 13, 19, 23, 16, 23, 20, 21, 23, 11, 15, 13, 22, 18, 22, 16, 21, 16, 19, 21, 26, 18, 13, 17, 15, 15, 15, 23, 16, 11, 15, 13, 21, 23, 21, 21, 24, 17, 18, 21, 26, 19, 13, 16, 17, 18, 18, 20, 22, 18, 11, 15, 13, 21, 22, 22, 23, 15, 19, 15, 20, 26, 20, 13, 17, 20, 21, 24, 16, 16, 11, 15, 13, 22, 16, 20, 24, 20, 18, 22, 26, 21, 13, 20, 21, 16, 20, 22, 24, 11, 15, 13, 23, 16, 19, 20, 16, 21, 23, 19, 26, 22, 13, 24, 17, 19, 16, 24, 23, 11, 15, 13, 24, 24, 23, 17, 21, 16, 19, 26, 24, 13, 16, 17, 24, 23, 24, 20, 11, 16, 13, 18, 15, 21, 23, 17, 21, 16, 26, 24, 13, 23, 20, 24, 20, 17, 19, 11, 16, 13, 22, 24, 17, 16, 15, 15, 22, 26, 24, 13, 22, 19, 23, 22, 15, 21, 11, 17, 13, 19, 24, 19, 17, 22, 17, 20, 26, 23, 13, 20, 21, 19, 15, 20, 11, 18, 13, 18, 22, 18, 23, 20, 24, 19, 26, 21, 13, 20, 17, 17, 24, 17, 24, 22, 11, 19, 13, 17, 15, 22, 19, 22, 20, 22, 26, 19, 13, 18, 19, 22, 21, 15, 19, 18, 11, 19, 13, 21, 20, 16, 17, 17, 20, 21, 26, 17, 13, 22, 16, 23, 24, 24, 17, 17, 11, 19, 13, 20, 18, 23, 17, 24, 22, 22, 26, 16, 13, 22, 21, 20, 23, 18, 15, 17, 11, 19, 13, 15, 18, 16, 19, 17, 23, 18, 26, 16, 13, 17, 22, 16, 17, 15, 21, 11, 18, 13, 18, 23, 21, 21, 19, 16, 22, 26, 16, 13, 15, 18, 19, 20, 15, 18, 18, 11, 17, 13, 22, 21, 18, 22, 16, 21, 22, 26, 15, 13, 24, 19, 19, 21, 17, 20, 24, 11, 17, 13, 17, 17, 20, 24, 22, 16, 22, 26, 15, 13, 24, 20, 16, 16, 21, 16, 21, 11, 16, 13, 22, 23, 22, 15, 19, 18, 24, 26, 16, 13, 15, 18, 21, 18, 24, 20, 24, 11, 16, 13, 19, 19, 15, 19, 20, 19, 21, 26, 16, 13, 17, 15, 15, 21, 23, 21, 17, 11, 16, 13, 16, 22, 18, 18, 24, 23, 24, 26, 16, 13, 19, 20, 21, 17, 20, 22, 23, 11, 15, 13, 24, 22, 17, 21, 17, 21, 18, 26, 16, 13, 23, 17, 20, 16, 23, 22, 24, 11, 15, 13, 23, 17, 21, 23, 15, 19, 19, 21, 26, 17, 13, 18, 18, 21, 21, 20, 18, 11, 15, 13, 22, 17, 22, 20, 19, 23, 20, 19, 26, 18, 13, 15, 17, 18, 24, 18, 15, 18, 11, 15, 13, 21, 21, 24, 22, 23, 17, 18, 19, 26, 18, 13, 24, 16, 22, 15, 23, 15, 19, 11, 15, 13, 21, 20, 17, 19, 18, 24, 21, 26, 20, 13, 15, 17, 24, 19, 19, 21, 11, 15, 13, 21, 22, 24, 21, 19, 19, 16, 22, 26, 21, 13, 18, 18, 20, 15, 22, 21, 11, 15, 13, 22, 21, 17, 24, 19, 17, 23, 20, 26, 22, 13, 22, 18, 23, 21, 16, 24, 11, 15, 13, 24, 17, 19, 22, 22, 19, 18, 20, 26, 24, 13, 15, 19, 20, 16, 18, 17, 11, 16, 13, 17, 15, 17, 20, 19, 17, 22, 26, 24, 13, 24, 19, 22, 19, 24, 18, 11, 16, 13, 21, 19, 23, 23, 16, 22, 19, 26, 16, 15, 13, 15, 21, 16, 21, 19, 19, 11, 17, 13, 18, 16, 20, 23, 17, 21, 22, 26, 24, 13, 15, 24, 15, 24, 24, 21, 11, 18, 13, 16, 24, 17, 15, 17, 22, 18, 26, 22, 13, 16, 17, 15, 17, 21, 20, 20, 11, 19, 13, 15, 24, 24, 15, 16, 21, 22, 26, 19, 13, 23, 16, 18, 23, 21, 15, 19, 11, 19, 13, 21, 22, 23, 19, 22, 21, 18, 26, 17, 13, 24, 23, 20, 18, 22, 20, 19, 11, 19, 13, 21, 22, 21, 21, 18, 15, 20, 26, 16, 13, 23, 24, 15, 16, 19, 24, 11, 19, 13, 17, 16, 16, 18, 18, 22, 21, 26, 16, 13, 18, 16, 19, 18, 23, 18, 18, 11, 18, 13, 20, 21, 17, 22, 18, 20, 23, 26, 16, 13, 15, 18, 18, 23, 23, 21, 17, 11, 17, 13, 24, 16, 18, 16, 15, 17, 16, 26, 15, 13, 24, 16, 22, 20, 21, 23, 19, 11, 17, 13, 18, 19, 18, 23, 24, 24, 20, 26, 15, 13, 24, 15, 18, 21, 16, 16, 11, 16, 13, 23, 22, 21, 16, 21, 23, 22, 26, 15, 13, 24, 21, 23, 23, 21, 20, 16, 21, 11, 16, 13, 20, 15, 20, 15, 18, 22, 20, 26, 16, 13, 16, 16, 15, 17, 17, 24, 16, 11, 16, 13, 17, 16, 22, 24, 15, 17, 19, 26, 16, 13, 18, 18, 22, 20, 17, 18, 22, 11, 16, 13, 15, 15, 15, 22, 23, 24, 26, 16, 13, 21, 22, 15, 20, 20, 16, 16, 11, 15, 13, 23, 19, 16, 19, 19, 19, 21, 26, 17, 13, 16, 18, 22, 19, 23, 15, 22, 11, 15, 13, 22, 18, 15, 18, 15, 21, 22, 26, 17, 13, 22, 22, 17, 16, 23, 15, 23, 11, 15, 13, 21, 21, 16, 16, 19, 19, 22, 26, 18, 13, 21, 15, 23, 21, 18, 23, 23, 11, 15, 13, 21, 18, 16, 19, 22, 23, 26, 19, 13, 21, 21, 24, 19, 22, 18, 11, 15, 13, 21, 19, 18, 20, 22, 23, 17, 18, 26, 20, 13, 24, 19, 20, 24, 20, 17, 19, 11, 15, 13, 22, 15, 21, 18, 18, 23, 22, 21, 26, 22, 13, 18, 21, 24, 17, 24, 16, 11, 15, 13, 23, 18, 23, 19, 19, 19, 21, 20, 26, 23, 13, 22, 22, 22, 19, 17, 20, 11, 16, 13, 15, 22, 17, 22, 24, 16, 21, 26, 24, 13, 23, 24, 16, 22, 19, 24, 11, 16, 13, 19, 20, 24, 20, 23, 16, 24, 26, 16, 15, 13, 18, 18, 18, 15, 24, 23, 11, 17, 13, 15, 20, 23, 15, 20, 20, 24, 26, 24, 13, 22, 17, 22, 15, 17, 19, 11, 17, 13, 23, 24, 19, 24, 16, 19, 21, 26, 22, 13, 24, 22, 22, 24, 17, 19, 11, 18, 13, 23, 20, 23, 21, 23, 20, 26, 20, 13, 21, 15, 15, 19, 22, 11, 19, 13, 21, 16, 20, 24, 21, 17, 26, 18, 13, 19, 23, 24, 16, 23, 24, 16, 11, 19, 13, 23, 17, 15, 18, 18, 20, 26, 17, 13, 16, 18, 19, 17, 20, 18, 18, 11, 19, 13, 19, 21, 19, 15, 19, 23, 19, 26, 16, 13, 19, 16, 19, 15, 21, 20, 11, 18, 13, 23, 17, 19, 19, 21, 18, 26, 16, 13, 15, 21, 15, 23, 21, 17, 17, 11, 18, 13, 16, 19, 16, 21, 16, 19, 19, 26, 15, 13, 24, 15, 19, 16, 17, 21, 22, 21, 11, 17, 13, 20, 17, 23, 17, 21, 24, 26, 15, 13, 23, 21, 16, 18, 19, 20, 19, 11, 17, 13, 15, 16, 23, 23, 24, 19, 22, 26, 15, 13, 24, 15, 15, 19, 23, 17, 15, 21, 11, 16, 13, 21, 16, 16, 23, 20, 19, 22, 26, 16, 13, 15, 16, 18, 15, 21, 24, 24, 11, 16, 13, 17, 24, 20, 17, 16, 21, 24, 26, 16, 13, 17, 15, 20, 15, 20, 21, 24, 11, 16, 13, 15, 20, 19, 17, 17, 26, 16, 13, 19, 24, 18, 18, 15, 20, 18, 11, 15, 13, 23, 22, 20, 17, 21, 15, 23, 26, 16, 13, 24, 15, 18, 21, 23, 17, 17, 11, 15, 13, 22, 19, 22, 19, 17, 21, 23, 26, 17, 13, 19, 21, 24, 17, 20, 17, 11, 15, 13, 21, 21, 18, 15, 16, 20, 17, 20, 26, 18, 13, 17, 17, 21, 19, 20, 15, 22, 11, 15, 13, 21, 16, 22, 23, 21, 16, 23, 26, 19, 13, 17, 15, 21, 18, 21, 20, 11, 15, 13, 21, 16, 17, 15, 21, 16, 23, 26, 20, 13, 19, 16, 23, 18, 17, 21, 11, 15, 13, 21, 20, 16, 19, 16, 21, 18, 21, 26, 21, 13, 23, 17, 18, 24, 24, 19, 11, 15, 13, 22, 20, 15, 15, 24, 20, 20, 26, 23, 13, 18, 15, 18, 23, 17, 24, 11, 15, 13, 24, 18, 19, 23, 20, 20, 22, 21, 26, 24, 13, 21, 17, 20, 15, 15, 16, 11, 16, 13, 17, 19, 24, 24, 18, 19, 26, 16, 15, 13, 19, 18, 23, 18, 21, 19, 11, 16, 13, 22, 20, 20, 16, 21, 18, 17, 26, 16, 15, 13, 18, 17, 15, 15, 19, 23, 11, 17, 13, 20, 15, 23, 15, 20, 23, 20, 26, 23, 13, 24, 24, 23, 18, 21, 17, 11, 18, 13, 19, 22, 18, 16, 19, 17, 19, 26, 21, 13, 22, 15, 23, 22, 20, 24, 11, 19, 13, 19, 15, 16, 24, 18, 20, 21, 26, 19, 13, 18, 15, 22, 15, 17, 11, 19, 13, 23, 23, 18, 19, 23, 24, 21, 26, 17, 13, 20, 23, 24, 18, 24, 17, 11, 19, 13, 22, 17, 23, 20, 15, 18, 26, 16, 13, 21, 17, 24, 23, 17, 15, 21, 11, 19, 13, 16, 20, 20, 20, 16, 19, 22, 26, 16, 13, 16, 19, 24, 15, 17, 21, 24, 11, 18, 13, 19, 20, 20, 18, 24, 19, 20, 26, 15, 13, 24, 17, 19, 17, 16, 21, 16, 20, 11, 17, 13, 22, 24, 17, 24, 21, 20, 26, 15, 13, 23, 18, 24, 24, 22, 21, 16, 18, 11, 17, 13, 17, 17, 24, 17, 18, 22, 23, 26, 15, 13, 23, 19, 21, 16, 17, 16, 21, 11, 16, 13, 22, 22, 18, 22, 23, 17, 16, 26, 15, 13, 24, 17, 20, 18, 21, 20, 23, 11, 16, 13, 19, 16, 21, 21, 24, 16, 19, 26, 16, 13, 15, 22, 23, 17, 23, 23, 24, 11, 16, 13, 16, 19, 17, 22, 18, 19, 24, 26, 16, 13, 18, 16, 22, 18, 19, 16, 22, 11, 15, 13, 24, 18, 21, 24, 24, 19, 24, 26, 16, 13, 21, 21, 19, 21, 24, 19, 20, 11, 15, 13, 22, 23, 21, 24, 17, 24, 22]\n",
      "Length of the above token: 1964\n",
      "\n",
      "\n",
      "Preprocessed data:\n",
      "4.73849,4.035236;3.5568726,3.816726;2.7518926,3.4720476;2.233504,3.066883;1.9012423,2.6638296;1.6983908,2.287275;1.5855436,1.9504576;1.539185,1.657464;1.545268,1.4072713;1.5957209,1.1964481;1.686735,1.0204577;1.8171905,0.8746613;1.9879825,0.75476843;2.200758,0.6567745;2.4583132,0.57740855;2.7636735,0.5137086;3.1200387,0.463475;3.5299618,0.42480776;3.9953063,0.3962918;4.5159802,0.3768565;5.090278,0.36603037;5.713185,0.36361417;6.3762674,0.369769;7.067629,0.38517928;7.770793,0.4109523;8.46578,0.4487343;9.128238,0.5008443;9.730413,0.57011914;10.242939,0.6600339;10.633546,0.77456063;10.87162,0.9174157;10.929863,1.0911884;10.787128,1.2962308;10.433771,1.5287218;9.877834,1.7786723;9.148676,2.0294497;8.295404,2.259474;7.3839593,2.4448748;6.483798,2.5661354;5.650174,2.6147482;4.9288654,2.5876598;4.336002,2.497395;3.87069,2.3607953;3.5219057,2.1954727;3.273797,2.0172915;3.110902,1.8380554;3.0207474,1.6655504;2.992357,1.5060116;3.0184746,1.361648;3.0934439,1.23385;3.2134364,1.1226778;3.3760777,1.0274884;3.5793142,0.9474788;3.821662,0.8815871;4.101182,0.8289066;4.4153666,0.78859025;4.7613163,0.7598754;5.1339493,0.74238497;5.5280504,0.7357393;5.9349284,0.7400505;6.3462825,0.75536215;6.7504435,0.7821155;7.133941,0.8209961;7.4824586,0.872674;7.781957,0.937547;8.016166,1.0162748;8.172919,1.1084642;8.241264,1.2132685;8.211861,1.3292462;8.0856695,1.4523447;7.8654494,1.5779022;7.56075,1.7000942;7.18976,1.8117636;6.7747207,1.9048239;6.337866,1.9737033;5.903817,2.0138164;5.492959,2.0233998;5.1212983,2.0037694;4.800748,1.9580193;4.535118,1.8916253;4.325625,1.8110166;4.1712627,1.7211728;4.0676613,1.6279386;4.011895,1.5349174;3.999048,1.4454894;4.026094,1.3618612;4.0898595,1.285401;4.1873665,1.2171841;4.315913,1.1577173;4.472611,1.1072946;4.654448,1.0660366;4.858002,1.0339093;5.079151,1.010937;5.3136024,0.9969061;5.555954,0.9918129;5.800267,0.99560267;6.04005,1.0081916;6.2681665,1.0295203;6.476916,1.0595065;6.6588283,1.0979028\n",
      "\n",
      "After tokenisation:\n",
      "[19, 13, 22, 18, 23, 19, 24, 11, 19, 13, 15, 18, 20, 17, 18, 21, 26, 18, 13, 20, 20, 21, 23, 22, 17, 21, 11, 18, 13, 23, 16, 21, 22, 17, 21, 26, 17, 13, 22, 20, 16, 23, 24, 17, 21, 11, 18, 13, 19, 22, 17, 15, 19, 22, 21, 26, 17, 13, 17, 18, 18, 20, 15, 19, 11, 18, 13, 15, 21, 21, 23, 23, 18, 26, 16, 13, 24, 15, 16, 17, 19, 17, 18, 11, 17, 13, 21, 21, 18, 23, 17, 24, 21, 26, 16, 13, 21, 24, 23, 18, 24, 15, 23, 11, 17, 13, 17, 23, 22, 17, 22, 20, 26, 16, 13, 20, 23, 20, 20, 19, 18, 21, 11, 16, 13, 24, 20, 15, 19, 20, 22, 21, 26, 16, 13, 20, 18, 24, 16, 23, 20, 11, 16, 13, 21, 20, 22, 19, 21, 19, 26, 16, 13, 20, 19, 20, 17, 21, 23, 11, 16, 13, 19, 15, 22, 17, 22, 16, 18, 26, 16, 13, 20, 24, 20, 22, 17, 15, 24, 11, 16, 13, 16, 24, 21, 19, 19, 23, 16, 26, 16, 13, 21, 23, 21, 22, 18, 20, 11, 16, 13, 15, 17, 15, 19, 20, 22, 22, 26, 16, 13, 23, 16, 22, 16, 24, 15, 20, 11, 15, 13, 23, 22, 19, 21, 21, 16, 18, 26, 16, 13, 24, 23, 22, 24, 23, 17, 20, 11, 15, 13, 22, 20, 19, 22, 21, 23, 19, 18, 26, 17, 13, 17, 15, 15, 22, 20, 23, 11, 15, 13, 21, 20, 21, 22, 22, 19, 20, 26, 17, 13, 19, 20, 23, 18, 16, 18, 17, 11, 15, 13, 20, 22, 22, 19, 15, 23, 20, 20, 26, 17, 13, 22, 21, 18, 21, 22, 18, 20, 11, 15, 13, 20, 16, 18, 22, 15, 23, 21, 26, 18, 13, 16, 17, 15, 15, 18, 23, 22, 11, 15, 13, 19, 21, 18, 19, 22, 20, 26, 18, 13, 20, 17, 24, 24, 21, 16, 23, 11, 15, 13, 19, 17, 19, 23, 15, 22, 22, 21, 26, 18, 13, 24, 24, 20, 18, 15, 21, 18, 11, 15, 13, 18, 24, 21, 17, 24, 16, 23, 26, 19, 13, 20, 16, 20, 24, 23, 15, 17, 11, 15, 13, 18, 22, 21, 23, 20, 21, 20, 26, 20, 13, 15, 24, 15, 17, 22, 23, 11, 15, 13, 18, 21, 21, 15, 18, 15, 18, 22, 26, 20, 13, 22, 16, 18, 16, 23, 20, 11, 15, 13, 18, 21, 18, 21, 16, 19, 16, 22, 26, 21, 13, 18, 22, 21, 17, 21, 22, 19, 11, 15, 13, 18, 21, 24, 22, 21, 24, 26, 22, 13, 15, 21, 22, 21, 17, 24, 11, 15, 13, 18, 23, 20, 16, 22, 24, 17, 23, 26, 22, 13, 22, 22, 15, 22, 24, 18, 11, 15, 13, 19, 16, 15, 24, 20, 17, 18, 26, 23, 13, 19, 21, 20, 22, 23, 11, 15, 13, 19, 19, 23, 22, 18, 19, 18, 26, 24, 13, 16, 17, 23, 17, 18, 23, 11, 15, 13, 20, 15, 15, 23, 19, 19, 18, 26, 24, 13, 22, 18, 15, 19, 16, 18, 11, 15, 13, 20, 22, 15, 16, 16, 24, 16, 19, 26, 16, 15, 13, 17, 19, 17, 24, 18, 24, 11, 15, 13, 21, 21, 15, 15, 18, 18, 24, 26, 16, 15, 13, 21, 18, 18, 20, 19, 21, 11, 15, 13, 22, 22, 19, 20, 21, 15, 21, 18, 26, 16, 15, 13, 23, 22, 16, 21, 17, 11, 15, 13, 24, 16, 22, 19, 16, 20, 22, 26, 16, 15, 13, 24, 17, 24, 23, 21, 18, 11, 16, 13, 15, 24, 16, 16, 23, 23, 19, 26, 16, 15, 13, 22, 23, 22, 16, 17, 23, 11, 16, 13, 17, 24, 21, 17, 18, 15, 23, 26, 16, 15, 13, 19, 18, 18, 22, 22, 16, 11, 16, 13, 20, 17, 23, 22, 17, 16, 23, 26, 24, 13, 23, 22, 22, 23, 18, 19, 11, 16, 13, 22, 22, 23, 21, 22, 17, 18, 26, 24, 13, 16, 19, 23, 21, 22, 21, 11, 17, 13, 15, 17, 24, 19, 19, 24, 22, 26, 23, 13, 17, 24, 20, 19, 15, 19, 11, 17, 13, 17, 20, 24, 19, 22, 19, 26, 22, 13, 18, 23, 18, 24, 20, 24, 18, 11, 17, 13, 19, 19, 19, 23, 22, 19, 23, 26, 21, 13, 19, 23, 18, 22, 24, 23, 11, 17, 13, 20, 21, 21, 16, 18, 20, 19, 26, 20, 13, 21, 20, 15, 16, 22, 19, 11, 17, 13, 21, 16, 19, 22, 19, 23, 17, 26, 19, 13, 24, 17, 23, 23, 21, 20, 19, 11, 17, 13, 20, 23, 22, 21, 20, 24, 23, 26, 19, 13, 18, 18, 21, 15, 15, 17, 11, 17, 13, 19, 24, 22, 18, 24, 20, 26, 18, 13, 23, 22, 15, 21, 24, 11, 17, 13, 18, 21, 15, 22, 24, 20, 18, 26, 18, 13, 20, 17, 16, 24, 15, 20, 22, 11, 17, 13, 16, 24, 20, 19, 22, 17, 22, 26, 18, 13, 17, 22, 18, 22, 24, 22, 11, 17, 13, 15, 16, 22, 17, 24, 16, 20, 26, 18, 13, 16, 16, 15, 24, 15, 17, 11, 16, 13, 23, 18, 23, 15, 20, 20, 19, 26, 18, 13, 15, 17, 15, 22, 19, 22, 19, 11, 16, 13, 21, 21, 20, 20, 20, 15, 19, 26, 17, 13, 24, 24, 17, 18, 20, 22, 11, 16, 13, 20, 15, 21, 15, 16, 16, 21, 26, 18, 13, 15, 16, 23, 19, 22, 19, 21, 11, 16, 13, 18, 21, 16, 21, 19, 23, 26, 18, 13, 15, 24, 18, 19, 19, 18, 24, 11, 16, 13, 17, 18, 18, 23, 20, 26, 18, 13, 17, 16, 18, 19, 18, 21, 19, 11, 16, 13, 16, 17, 17, 21, 22, 22, 23, 26, 18, 13, 18, 22, 21, 15, 22, 22, 22, 11, 16, 13, 15, 17, 22, 19, 23, 23, 19, 26, 18, 13, 20, 22, 24, 18, 16, 19, 17, 11, 15, 13, 24, 19, 22, 19, 22, 23, 23, 26, 18, 13, 23, 17, 16, 21, 21, 17, 11, 15, 13, 23, 23, 16, 20, 23, 22, 16, 26, 19, 13, 16, 15, 16, 16, 23, 17, 11, 15, 13, 23, 17, 23, 24, 15, 21, 21, 26, 19, 13, 19, 16, 20, 18, 21, 21, 21, 11, 15, 13, 22, 23, 23, 20, 24, 15, 17, 20, 26, 19, 13, 22, 21, 16, 18, 16, 21, 18, 11, 15, 13, 22, 20, 24, 23, 22, 20, 19, 26, 20, 13, 16, 18, 18, 24, 19, 24, 18, 11, 15, 13, 22, 19, 17, 18, 23, 19, 24, 22, 26, 20, 13, 20, 17, 23, 15, 20, 15, 19, 11, 15, 13, 22, 18, 20, 22, 18, 24, 18, 26, 20, 13, 24, 18, 19, 24, 17, 23, 19, 11, 15, 13, 22, 19, 15, 15, 20, 15, 20, 26, 21, 13, 18, 19, 21, 17, 23, 17, 20, 11, 15, 13, 22, 20, 20, 18, 21, 17, 16, 20, 26, 21, 13, 22, 20, 15, 19, 19, 18, 20, 11, 15, 13, 22, 23, 17, 16, 16, 20, 20, 26, 22, 13, 16, 18, 18, 24, 19, 16, 11, 15, 13, 23, 17, 15, 24, 24, 21, 16, 26, 22, 13, 19, 23, 17, 19, 20, 23, 21, 11, 15, 13, 23, 22, 17, 21, 22, 19, 26, 22, 13, 22, 23, 16, 24, 20, 22, 11, 15, 13, 24, 18, 22, 20, 19, 22, 26, 23, 13, 15, 16, 21, 16, 21, 21, 11, 16, 13, 15, 16, 21, 17, 22, 19, 23, 26, 23, 13, 16, 22, 17, 24, 16, 24, 11, 16, 13, 16, 15, 23, 19, 21, 19, 17, 26, 23, 13, 17, 19, 16, 17, 21, 19, 11, 16, 13, 17, 16, 18, 17, 21, 23, 20, 26, 23, 13, 17, 16, 16, 23, 21, 16, 11, 16, 13, 18, 17, 24, 17, 19, 21, 17, 26, 23, 13, 15, 23, 20, 21, 21, 24, 20, 11, 16, 13, 19, 20, 17, 18, 19, 19, 22, 26, 22, 13, 23, 21, 20, 19, 19, 24, 19, 11, 16, 13, 20, 22, 22, 24, 15, 17, 17, 26, 22, 13, 20, 21, 15, 22, 20, 11, 16, 13, 22, 15, 15, 15, 24, 19, 17, 26, 22, 13, 16, 23, 24, 22, 21, 11, 16, 13, 23, 16, 16, 22, 21, 18, 21, 26, 21, 13, 22, 22, 19, 22, 17, 15, 22, 11, 16, 13, 24, 15, 19, 23, 17, 18, 24, 26, 21, 13, 18, 18, 22, 23, 21, 21, 11, 16, 13, 24, 22, 18, 22, 15, 18, 18, 26, 20, 13, 24, 15, 18, 23, 16, 22, 11, 17, 13, 15, 16, 18, 23, 16, 21, 19, 26, 20, 13, 19, 24, 17, 24, 20, 24, 11, 17, 13, 15, 17, 18, 18, 24, 24, 23, 26, 20, 13, 16, 17, 16, 17, 24, 23, 18, 11, 17, 13, 15, 15, 18, 22, 21, 24, 19, 26, 19, 13, 23, 15, 15, 22, 19, 23, 11, 16, 13, 24, 20, 23, 15, 16, 24, 18, 26, 19, 13, 20, 18, 20, 16, 16, 23, 11, 16, 13, 23, 24, 16, 21, 17, 20, 18, 26, 19, 13, 18, 17, 20, 21, 17, 20, 11, 16, 13, 23, 16, 16, 15, 16, 21, 21, 26, 19, 13, 16, 22, 16, 17, 21, 17, 22, 11, 16, 13, 22, 17, 16, 16, 22, 17, 23, 26, 19, 13, 15, 21, 22, 21, 21, 16, 18, 11, 16, 13, 21, 17, 22, 24, 18, 23, 21, 26, 19, 13, 15, 16, 16, 23, 24, 20, 11, 16, 13, 20, 18, 19, 24, 16, 22, 19, 26, 18, 13, 24, 24, 24, 15, 19, 23, 11, 16, 13, 19, 19, 20, 19, 23, 24, 19, 26, 19, 13, 15, 17, 21, 15, 24, 19, 11, 16, 13, 18, 21, 16, 23, 21, 16, 17, 26, 19, 13, 15, 23, 24, 23, 20, 24, 20, 11, 16, 13, 17, 23, 20, 19, 15, 16, 26, 19, 13, 16, 23, 22, 18, 21, 21, 20, 11, 16, 13, 17, 16, 22, 16, 23, 19, 16, 26, 19, 13, 18, 16, 20, 24, 16, 18, 11, 16, 13, 16, 20, 22, 22, 16, 22, 18, 26, 19, 13, 19, 22, 17, 21, 16, 16, 11, 16, 13, 16, 15, 22, 17, 24, 19, 21, 26, 19, 13, 21, 20, 19, 19, 19, 23, 11, 16, 13, 15, 21, 21, 15, 18, 21, 21, 26, 19, 13, 23, 20, 23, 15, 15, 17, 11, 16, 13, 15, 18, 18, 24, 15, 24, 18, 26, 20, 13, 15, 22, 24, 16, 20, 16, 11, 16, 13, 15, 16, 15, 24, 18, 22, 26, 20, 13, 18, 16, 18, 21, 15, 17, 19, 11, 15, 13, 24, 24, 21, 24, 15, 21, 16, 26, 20, 13, 20, 20, 20, 24, 20, 19, 11, 15, 13, 24, 24, 16, 23, 16, 17, 24, 26, 20, 13, 23, 15, 15, 17, 21, 22, 11, 15, 13, 24, 24, 20, 21, 15, 17, 21, 22, 26, 21, 13, 15, 19, 15, 15, 20, 11, 16, 13, 15, 15, 23, 16, 24, 16, 21, 26, 21, 13, 17, 21, 23, 16, 21, 21, 20, 11, 16, 13, 15, 17, 24, 20, 17, 15, 18, 26, 21, 13, 19, 22, 21, 24, 16, 21, 11, 16, 13, 15, 20, 24, 20, 15, 21, 20, 26, 21, 13, 21, 20, 23, 23, 17, 23, 18, 11, 16, 13, 15, 24, 22, 24, 15, 17, 23]\n",
      "Length of the above token: 1937\n"
     ]
    }
   ],
   "source": [
    "# Print tokenised output for the first system\n",
    "print('Two examples of tokens from tokenised_data:')\n",
    "print('')\n",
    "print('Preprocessed data:')\n",
    "print(traject_scaled_string[3])\n",
    "print('')\n",
    "print('After tokenisation:')\n",
    "print(tokenised_data.iloc[3][\"input_ids\"].squeeze().tolist())  # Tokenised tensor\n",
    "print('Length of the above token:',len(tokenised_data.iloc[3][\"input_ids\"].squeeze().tolist()))  # Tokenised tensor\n",
    "print('')\n",
    "print('')\n",
    "print('Preprocessed data:')\n",
    "print(traject_scaled_string[990])\n",
    "print('')\n",
    "print('After tokenisation:')\n",
    "print(tokenised_data.iloc[990][\"input_ids\"].squeeze().tolist())\n",
    "print('Length of the above token:',len(tokenised_data.iloc[990][\"input_ids\"].squeeze().tolist()))\n"
   ]
  }
 ],
 "metadata": {
  "kernelspec": {
   "display_name": "m2_venv",
   "language": "python",
   "name": "python3"
  },
  "language_info": {
   "codemirror_mode": {
    "name": "ipython",
    "version": 3
   },
   "file_extension": ".py",
   "mimetype": "text/x-python",
   "name": "python",
   "nbconvert_exporter": "python",
   "pygments_lexer": "ipython3",
   "version": "3.12.3"
  }
 },
 "nbformat": 4,
 "nbformat_minor": 2
}
