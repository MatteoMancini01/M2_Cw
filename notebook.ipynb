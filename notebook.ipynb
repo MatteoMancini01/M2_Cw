{
 "cells": [
  {
   "cell_type": "markdown",
   "metadata": {},
   "source": [
    "# Introduction"
   ]
  },
  {
   "cell_type": "code",
   "execution_count": 5,
   "metadata": {},
   "outputs": [],
   "source": [
    "# Import required packages\n",
    "import torch\n",
    "import math\n",
    "import numpy as np\n",
    "import matplotlib.pyplot as plt\n",
    "import h5py"
   ]
  },
  {
   "cell_type": "markdown",
   "metadata": {},
   "source": [
    "Open `lotka_volterra_data.h5` file on notebook"
   ]
  },
  {
   "cell_type": "code",
   "execution_count": 35,
   "metadata": {},
   "outputs": [],
   "source": [
    "with h5py.File('lotka_volterra_data.h5', 'r') as f:\n",
    "    # Access the full dataset\n",
    "    trajectories = f['trajectories'][:]\n",
    "    time_points = f['time'][:]\n",
    "\n",
    "    # Access a single trajectory\n",
    "    system_id = 0 # First system"
   ]
  },
  {
   "cell_type": "markdown",
   "metadata": {},
   "source": [
    "Checikng shape of the dataset, we expect trajectories to be of size $(1000 \\times 100 \\times 2)$, and time_points of size $(100 \\times 1)$"
   ]
  },
  {
   "cell_type": "code",
   "execution_count": 39,
   "metadata": {},
   "outputs": [
    {
     "name": "stdout",
     "output_type": "stream",
     "text": [
      "Time points shape: (100,)\n",
      "\n",
      "Trajectory shape (pray/predator): (1000, 100, 2)\n"
     ]
    }
   ],
   "source": [
    "print('Time points shape:',time_points.shape)\n",
    "print('')\n",
    "print('Trajectory shape (pray/predator):',trajectories.shape)"
   ]
  },
  {
   "cell_type": "code",
   "execution_count": 38,
   "metadata": {},
   "outputs": [
    {
     "data": {
      "text/plain": [
       "array([  0.        ,   2.02020202,   4.04040404,   6.06060606,\n",
       "         8.08080808,  10.1010101 ,  12.12121212,  14.14141414,\n",
       "        16.16161616,  18.18181818,  20.2020202 ,  22.22222222,\n",
       "        24.24242424,  26.26262626,  28.28282828,  30.3030303 ,\n",
       "        32.32323232,  34.34343434,  36.36363636,  38.38383838,\n",
       "        40.4040404 ,  42.42424242,  44.44444444,  46.46464646,\n",
       "        48.48484848,  50.50505051,  52.52525253,  54.54545455,\n",
       "        56.56565657,  58.58585859,  60.60606061,  62.62626263,\n",
       "        64.64646465,  66.66666667,  68.68686869,  70.70707071,\n",
       "        72.72727273,  74.74747475,  76.76767677,  78.78787879,\n",
       "        80.80808081,  82.82828283,  84.84848485,  86.86868687,\n",
       "        88.88888889,  90.90909091,  92.92929293,  94.94949495,\n",
       "        96.96969697,  98.98989899, 101.01010101, 103.03030303,\n",
       "       105.05050505, 107.07070707, 109.09090909, 111.11111111,\n",
       "       113.13131313, 115.15151515, 117.17171717, 119.19191919,\n",
       "       121.21212121, 123.23232323, 125.25252525, 127.27272727,\n",
       "       129.29292929, 131.31313131, 133.33333333, 135.35353535,\n",
       "       137.37373737, 139.39393939, 141.41414141, 143.43434343,\n",
       "       145.45454545, 147.47474747, 149.49494949, 151.51515152,\n",
       "       153.53535354, 155.55555556, 157.57575758, 159.5959596 ,\n",
       "       161.61616162, 163.63636364, 165.65656566, 167.67676768,\n",
       "       169.6969697 , 171.71717172, 173.73737374, 175.75757576,\n",
       "       177.77777778, 179.7979798 , 181.81818182, 183.83838384,\n",
       "       185.85858586, 187.87878788, 189.8989899 , 191.91919192,\n",
       "       193.93939394, 195.95959596, 197.97979798, 200.        ])"
      ]
     },
     "execution_count": 38,
     "metadata": {},
     "output_type": "execute_result"
    }
   ],
   "source": [
    "time_points"
   ]
  },
  {
   "cell_type": "code",
   "execution_count": 47,
   "metadata": {},
   "outputs": [
    {
     "data": {
      "text/plain": [
       "array([0.74055135, 0.7795419 ], dtype=float32)"
      ]
     },
     "execution_count": 47,
     "metadata": {},
     "output_type": "execute_result"
    }
   ],
   "source": [
    "trajectories[0][1]"
   ]
  },
  {
   "cell_type": "code",
   "execution_count": 54,
   "metadata": {},
   "outputs": [
    {
     "data": {
      "text/plain": [
       "(100,)"
      ]
     },
     "execution_count": 54,
     "metadata": {},
     "output_type": "execute_result"
    }
   ],
   "source": [
    "# First 50 time points:\n",
    "prey = trajectories[0, :1000, 0]\n",
    "predator = trajectories[0, :50, 1]\n",
    "times = time_points[:50]\n",
    "\n",
    "trajectories.shape\n",
    "prey.shape"
   ]
  },
  {
   "cell_type": "code",
   "execution_count": 49,
   "metadata": {},
   "outputs": [
    {
     "data": {
      "text/plain": [
       "array([ 0.        ,  2.02020202,  4.04040404,  6.06060606,  8.08080808,\n",
       "       10.1010101 , 12.12121212, 14.14141414, 16.16161616, 18.18181818,\n",
       "       20.2020202 , 22.22222222, 24.24242424, 26.26262626, 28.28282828,\n",
       "       30.3030303 , 32.32323232, 34.34343434, 36.36363636, 38.38383838,\n",
       "       40.4040404 , 42.42424242, 44.44444444, 46.46464646, 48.48484848,\n",
       "       50.50505051, 52.52525253, 54.54545455, 56.56565657, 58.58585859,\n",
       "       60.60606061, 62.62626263, 64.64646465, 66.66666667, 68.68686869,\n",
       "       70.70707071, 72.72727273, 74.74747475, 76.76767677, 78.78787879,\n",
       "       80.80808081, 82.82828283, 84.84848485, 86.86868687, 88.88888889,\n",
       "       90.90909091, 92.92929293, 94.94949495, 96.96969697, 98.98989899])"
      ]
     },
     "execution_count": 49,
     "metadata": {},
     "output_type": "execute_result"
    }
   ],
   "source": [
    "times"
   ]
  },
  {
   "cell_type": "code",
   "execution_count": 52,
   "metadata": {},
   "outputs": [
    {
     "data": {
      "text/plain": [
       "(100,)"
      ]
     },
     "execution_count": 52,
     "metadata": {},
     "output_type": "execute_result"
    }
   ],
   "source": [
    "prey.shape"
   ]
  }
 ],
 "metadata": {
  "kernelspec": {
   "display_name": "m2_venv",
   "language": "python",
   "name": "python3"
  },
  "language_info": {
   "codemirror_mode": {
    "name": "ipython",
    "version": 3
   },
   "file_extension": ".py",
   "mimetype": "text/x-python",
   "name": "python",
   "nbconvert_exporter": "python",
   "pygments_lexer": "ipython3",
   "version": "3.12.3"
  }
 },
 "nbformat": 4,
 "nbformat_minor": 2
}
